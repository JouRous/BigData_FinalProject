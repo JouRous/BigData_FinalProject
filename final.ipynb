{
  "nbformat": 4,
  "nbformat_minor": 0,
  "metadata": {
    "language_info": {
      "codemirror_mode": {
        "name": "ipython",
        "version": 3
      },
      "file_extension": ".py",
      "mimetype": "text/x-python",
      "name": "python",
      "nbconvert_exporter": "python",
      "pygments_lexer": "ipython3",
      "version": "3.8.5"
    },
    "orig_nbformat": 2,
    "kernelspec": {
      "name": "python385jvsc74a57bd0916dbcbb3f70747c44a77c7bcd40155683ae19c65e1c03b4aa3499c5328201f1",
      "display_name": "Python 3.8.5 64-bit"
    },
    "metadata": {
      "interpreter": {
        "hash": "916dbcbb3f70747c44a77c7bcd40155683ae19c65e1c03b4aa3499c5328201f1"
      }
    },
    "colab": {
      "name": "final.ipynb",
      "provenance": [],
      "collapsed_sections": []
    }
  },
  "cells": [
    {
      "cell_type": "code",
      "metadata": {
        "id": "PM-oKPjGI1ll"
      },
      "source": [
        "from pyspark.sql.types import *\n",
        "from pyspark.sql import SparkSession\n",
        "from pyspark.sql.functions import avg\n",
        "from pyspark.sql.types import FloatType, IntegerType\n",
        "from pyspark.sql.functions import lit\n",
        "from pyspark.sql.functions import mean, stddev, col\n",
        "\n",
        "from sklearn import metrics\n",
        "\n",
        "from math import sqrt\n",
        "from math import pi\n",
        "from math import exp\n",
        "\n",
        "import matplotlib.pyplot as plt\n",
        "import matplotlib.image as mpimg\n",
        "%matplotlib inline\n",
        "import seaborn as sns\n",
        "\n",
        "import numpy as np \n",
        "from Point import Point"
      ],
      "execution_count": 138,
      "outputs": [
        {
          "output_type": "error",
          "ename": "ModuleNotFoundError",
          "evalue": "No module named 'Point'",
          "traceback": [
            "\u001b[0;31m---------------------------------------------------------------------------\u001b[0m",
            "\u001b[0;31mModuleNotFoundError\u001b[0m                       Traceback (most recent call last)",
            "\u001b[0;32m<ipython-input-138-e657cac1bc7b>\u001b[0m in \u001b[0;36m<module>\u001b[0;34m\u001b[0m\n\u001b[1;32m     18\u001b[0m \u001b[0;34m\u001b[0m\u001b[0m\n\u001b[1;32m     19\u001b[0m \u001b[0;32mimport\u001b[0m \u001b[0mnumpy\u001b[0m \u001b[0;32mas\u001b[0m \u001b[0mnp\u001b[0m\u001b[0;34m\u001b[0m\u001b[0;34m\u001b[0m\u001b[0m\n\u001b[0;32m---> 20\u001b[0;31m \u001b[0;32mfrom\u001b[0m \u001b[0mPoint\u001b[0m \u001b[0;32mimport\u001b[0m \u001b[0mPoint\u001b[0m\u001b[0;34m\u001b[0m\u001b[0;34m\u001b[0m\u001b[0m\n\u001b[0m",
            "\u001b[0;31mModuleNotFoundError\u001b[0m: No module named 'Point'"
          ]
        }
      ]
    },
    {
      "cell_type": "markdown",
      "metadata": {
        "id": "HtxqEoVgI31B"
      },
      "source": [
        "# Data Pre-processing"
      ]
    },
    {
      "cell_type": "code",
      "metadata": {
        "id": "9LlvOEzXI1lm"
      },
      "source": [
        "spark = SparkSession.builder.master(\"local\").appName(\"Colab\").getOrCreate()"
      ],
      "execution_count": 122,
      "outputs": []
    },
    {
      "cell_type": "code",
      "metadata": {
        "id": "WFyAUWTjI1ln",
        "outputId": "618f5658-5c64-4b0f-a965-0df05007cfee"
      },
      "source": [
        "df = spark.read.csv(r'healthcare-dataset-stroke-data.csv', \n",
        "                        sep=',',\n",
        "                        header=True,\n",
        "                        inferSchema=True,\n",
        "                        nullValue='NA')\n",
        "\n",
        "df.printSchema()\n",
        "                 "
      ],
      "execution_count": 166,
      "outputs": [
        {
          "output_type": "stream",
          "name": "stdout",
          "text": [
            "root\n |-- id: integer (nullable = true)\n |-- gender: string (nullable = true)\n |-- age: double (nullable = true)\n |-- hypertension: integer (nullable = true)\n |-- heart_disease: integer (nullable = true)\n |-- ever_married: string (nullable = true)\n |-- work_type: string (nullable = true)\n |-- Residence_type: string (nullable = true)\n |-- avg_glucose_level: double (nullable = true)\n |-- bmi: string (nullable = true)\n |-- smoking_status: string (nullable = true)\n |-- stroke: integer (nullable = true)\n\n"
          ]
        }
      ]
    },
    {
      "cell_type": "code",
      "metadata": {
        "id": "p0G3AkH-I1ln",
        "outputId": "33d84d79-987d-455f-95f0-a1778bb6ab60"
      },
      "source": [
        "df.count()"
      ],
      "execution_count": 118,
      "outputs": [
        {
          "output_type": "execute_result",
          "data": {
            "text/plain": [
              "5110"
            ]
          },
          "metadata": {},
          "execution_count": 118
        }
      ]
    },
    {
      "cell_type": "code",
      "metadata": {
        "id": "szHbhCeZI1lo",
        "outputId": "d8a8130f-7483-4a3c-eb83-2a285ab69acf"
      },
      "source": [
        "df.toPandas().head()"
      ],
      "execution_count": null,
      "outputs": [
        {
          "output_type": "execute_result",
          "data": {
            "text/plain": [
              "      id  gender age hypertension heart_disease ever_married      work_type  \\\n",
              "0   9046    Male  67            0             1          Yes        Private   \n",
              "1  51676  Female  61            0             0          Yes  Self-employed   \n",
              "2  31112    Male  80            0             1          Yes        Private   \n",
              "3  60182  Female  49            0             0          Yes        Private   \n",
              "4   1665  Female  79            1             0          Yes  Self-employed   \n",
              "\n",
              "  Residence_type avg_glucose_level   bmi   smoking_status stroke  \n",
              "0          Urban            228.69  36.6  formerly smoked      1  \n",
              "1          Rural            202.21   N/A     never smoked      1  \n",
              "2          Rural            105.92  32.5     never smoked      1  \n",
              "3          Urban            171.23  34.4           smokes      1  \n",
              "4          Rural            174.12    24     never smoked      1  "
            ],
            "text/html": [
              "<div>\n",
              "<style scoped>\n",
              "    .dataframe tbody tr th:only-of-type {\n",
              "        vertical-align: middle;\n",
              "    }\n",
              "\n",
              "    .dataframe tbody tr th {\n",
              "        vertical-align: top;\n",
              "    }\n",
              "\n",
              "    .dataframe thead th {\n",
              "        text-align: right;\n",
              "    }\n",
              "</style>\n",
              "<table border=\"1\" class=\"dataframe\">\n",
              "  <thead>\n",
              "    <tr style=\"text-align: right;\">\n",
              "      <th></th>\n",
              "      <th>id</th>\n",
              "      <th>gender</th>\n",
              "      <th>age</th>\n",
              "      <th>hypertension</th>\n",
              "      <th>heart_disease</th>\n",
              "      <th>ever_married</th>\n",
              "      <th>work_type</th>\n",
              "      <th>Residence_type</th>\n",
              "      <th>avg_glucose_level</th>\n",
              "      <th>bmi</th>\n",
              "      <th>smoking_status</th>\n",
              "      <th>stroke</th>\n",
              "    </tr>\n",
              "  </thead>\n",
              "  <tbody>\n",
              "    <tr>\n",
              "      <th>0</th>\n",
              "      <td>9046</td>\n",
              "      <td>Male</td>\n",
              "      <td>67</td>\n",
              "      <td>0</td>\n",
              "      <td>1</td>\n",
              "      <td>Yes</td>\n",
              "      <td>Private</td>\n",
              "      <td>Urban</td>\n",
              "      <td>228.69</td>\n",
              "      <td>36.6</td>\n",
              "      <td>formerly smoked</td>\n",
              "      <td>1</td>\n",
              "    </tr>\n",
              "    <tr>\n",
              "      <th>1</th>\n",
              "      <td>51676</td>\n",
              "      <td>Female</td>\n",
              "      <td>61</td>\n",
              "      <td>0</td>\n",
              "      <td>0</td>\n",
              "      <td>Yes</td>\n",
              "      <td>Self-employed</td>\n",
              "      <td>Rural</td>\n",
              "      <td>202.21</td>\n",
              "      <td>N/A</td>\n",
              "      <td>never smoked</td>\n",
              "      <td>1</td>\n",
              "    </tr>\n",
              "    <tr>\n",
              "      <th>2</th>\n",
              "      <td>31112</td>\n",
              "      <td>Male</td>\n",
              "      <td>80</td>\n",
              "      <td>0</td>\n",
              "      <td>1</td>\n",
              "      <td>Yes</td>\n",
              "      <td>Private</td>\n",
              "      <td>Rural</td>\n",
              "      <td>105.92</td>\n",
              "      <td>32.5</td>\n",
              "      <td>never smoked</td>\n",
              "      <td>1</td>\n",
              "    </tr>\n",
              "    <tr>\n",
              "      <th>3</th>\n",
              "      <td>60182</td>\n",
              "      <td>Female</td>\n",
              "      <td>49</td>\n",
              "      <td>0</td>\n",
              "      <td>0</td>\n",
              "      <td>Yes</td>\n",
              "      <td>Private</td>\n",
              "      <td>Urban</td>\n",
              "      <td>171.23</td>\n",
              "      <td>34.4</td>\n",
              "      <td>smokes</td>\n",
              "      <td>1</td>\n",
              "    </tr>\n",
              "    <tr>\n",
              "      <th>4</th>\n",
              "      <td>1665</td>\n",
              "      <td>Female</td>\n",
              "      <td>79</td>\n",
              "      <td>1</td>\n",
              "      <td>0</td>\n",
              "      <td>Yes</td>\n",
              "      <td>Self-employed</td>\n",
              "      <td>Rural</td>\n",
              "      <td>174.12</td>\n",
              "      <td>24</td>\n",
              "      <td>never smoked</td>\n",
              "      <td>1</td>\n",
              "    </tr>\n",
              "  </tbody>\n",
              "</table>\n",
              "</div>"
            ]
          },
          "metadata": {
            "tags": []
          },
          "execution_count": 74
        }
      ]
    },
    {
      "cell_type": "code",
      "metadata": {
        "id": "g_1VHWu4I1lp",
        "outputId": "d47a6874-d150-4820-9fea-3d44865288ad"
      },
      "source": [
        "numeric_columns = ['id', 'age', 'hypertension', 'heart_disease', 'avg_glucose_level', 'bmi']\n",
        "for column in numeric_columns:\n",
        "  df = df.withColumn(column, df[column].cast(FloatType()))\n",
        "df.printSchema()"
      ],
      "execution_count": 167,
      "outputs": [
        {
          "output_type": "stream",
          "name": "stdout",
          "text": [
            "root\n |-- id: float (nullable = true)\n |-- gender: string (nullable = true)\n |-- age: float (nullable = true)\n |-- hypertension: float (nullable = true)\n |-- heart_disease: float (nullable = true)\n |-- ever_married: string (nullable = true)\n |-- work_type: string (nullable = true)\n |-- Residence_type: string (nullable = true)\n |-- avg_glucose_level: float (nullable = true)\n |-- bmi: float (nullable = true)\n |-- smoking_status: string (nullable = true)\n |-- stroke: integer (nullable = true)\n\n"
          ]
        }
      ]
    },
    {
      "cell_type": "code",
      "metadata": {
        "id": "_1P_-NkKI1lp",
        "outputId": "2920f9cd-5438-43ee-ac6b-bfa9526cf3ce"
      },
      "source": [
        "df.describe().toPandas().transpose()"
      ],
      "execution_count": null,
      "outputs": [
        {
          "output_type": "execute_result",
          "data": {
            "text/plain": [
              "                       0                    1                    2         3  \\\n",
              "summary            count                 mean               stddev       min   \n",
              "id                  5110    36517.82935420744    21161.72162482715      67.0   \n",
              "gender              5110                 None                 None    Female   \n",
              "age                 5110    43.22661448143525    22.61264672306245      0.08   \n",
              "hypertension        5110   0.0974559686888454    0.296606674233791       0.0   \n",
              "heart_disease       5110  0.05401174168297456  0.22606298750336554       0.0   \n",
              "ever_married        5110                 None                 None        No   \n",
              "work_type           5110                 None                 None  Govt_job   \n",
              "Residence_type      5110                 None                 None     Rural   \n",
              "avg_glucose_level   5110   106.14767708078523     45.2835601574783     55.12   \n",
              "bmi                 4909    28.89323691268831    7.854066743005466      10.3   \n",
              "smoking_status      5110                 None                 None   Unknown   \n",
              "stroke              5110   0.0487279843444227  0.21531985698023753       0.0   \n",
              "\n",
              "                          4  \n",
              "summary                 max  \n",
              "id                  72940.0  \n",
              "gender                Other  \n",
              "age                    82.0  \n",
              "hypertension            1.0  \n",
              "heart_disease           1.0  \n",
              "ever_married            Yes  \n",
              "work_type          children  \n",
              "Residence_type        Urban  \n",
              "avg_glucose_level    271.74  \n",
              "bmi                    97.6  \n",
              "smoking_status       smokes  \n",
              "stroke                  1.0  "
            ],
            "text/html": [
              "<div>\n",
              "<style scoped>\n",
              "    .dataframe tbody tr th:only-of-type {\n",
              "        vertical-align: middle;\n",
              "    }\n",
              "\n",
              "    .dataframe tbody tr th {\n",
              "        vertical-align: top;\n",
              "    }\n",
              "\n",
              "    .dataframe thead th {\n",
              "        text-align: right;\n",
              "    }\n",
              "</style>\n",
              "<table border=\"1\" class=\"dataframe\">\n",
              "  <thead>\n",
              "    <tr style=\"text-align: right;\">\n",
              "      <th></th>\n",
              "      <th>0</th>\n",
              "      <th>1</th>\n",
              "      <th>2</th>\n",
              "      <th>3</th>\n",
              "      <th>4</th>\n",
              "    </tr>\n",
              "  </thead>\n",
              "  <tbody>\n",
              "    <tr>\n",
              "      <th>summary</th>\n",
              "      <td>count</td>\n",
              "      <td>mean</td>\n",
              "      <td>stddev</td>\n",
              "      <td>min</td>\n",
              "      <td>max</td>\n",
              "    </tr>\n",
              "    <tr>\n",
              "      <th>id</th>\n",
              "      <td>5110</td>\n",
              "      <td>36517.82935420744</td>\n",
              "      <td>21161.72162482715</td>\n",
              "      <td>67.0</td>\n",
              "      <td>72940.0</td>\n",
              "    </tr>\n",
              "    <tr>\n",
              "      <th>gender</th>\n",
              "      <td>5110</td>\n",
              "      <td>None</td>\n",
              "      <td>None</td>\n",
              "      <td>Female</td>\n",
              "      <td>Other</td>\n",
              "    </tr>\n",
              "    <tr>\n",
              "      <th>age</th>\n",
              "      <td>5110</td>\n",
              "      <td>43.22661448143525</td>\n",
              "      <td>22.61264672306245</td>\n",
              "      <td>0.08</td>\n",
              "      <td>82.0</td>\n",
              "    </tr>\n",
              "    <tr>\n",
              "      <th>hypertension</th>\n",
              "      <td>5110</td>\n",
              "      <td>0.0974559686888454</td>\n",
              "      <td>0.296606674233791</td>\n",
              "      <td>0.0</td>\n",
              "      <td>1.0</td>\n",
              "    </tr>\n",
              "    <tr>\n",
              "      <th>heart_disease</th>\n",
              "      <td>5110</td>\n",
              "      <td>0.05401174168297456</td>\n",
              "      <td>0.22606298750336554</td>\n",
              "      <td>0.0</td>\n",
              "      <td>1.0</td>\n",
              "    </tr>\n",
              "    <tr>\n",
              "      <th>ever_married</th>\n",
              "      <td>5110</td>\n",
              "      <td>None</td>\n",
              "      <td>None</td>\n",
              "      <td>No</td>\n",
              "      <td>Yes</td>\n",
              "    </tr>\n",
              "    <tr>\n",
              "      <th>work_type</th>\n",
              "      <td>5110</td>\n",
              "      <td>None</td>\n",
              "      <td>None</td>\n",
              "      <td>Govt_job</td>\n",
              "      <td>children</td>\n",
              "    </tr>\n",
              "    <tr>\n",
              "      <th>Residence_type</th>\n",
              "      <td>5110</td>\n",
              "      <td>None</td>\n",
              "      <td>None</td>\n",
              "      <td>Rural</td>\n",
              "      <td>Urban</td>\n",
              "    </tr>\n",
              "    <tr>\n",
              "      <th>avg_glucose_level</th>\n",
              "      <td>5110</td>\n",
              "      <td>106.14767708078523</td>\n",
              "      <td>45.2835601574783</td>\n",
              "      <td>55.12</td>\n",
              "      <td>271.74</td>\n",
              "    </tr>\n",
              "    <tr>\n",
              "      <th>bmi</th>\n",
              "      <td>4909</td>\n",
              "      <td>28.89323691268831</td>\n",
              "      <td>7.854066743005466</td>\n",
              "      <td>10.3</td>\n",
              "      <td>97.6</td>\n",
              "    </tr>\n",
              "    <tr>\n",
              "      <th>smoking_status</th>\n",
              "      <td>5110</td>\n",
              "      <td>None</td>\n",
              "      <td>None</td>\n",
              "      <td>Unknown</td>\n",
              "      <td>smokes</td>\n",
              "    </tr>\n",
              "    <tr>\n",
              "      <th>stroke</th>\n",
              "      <td>5110</td>\n",
              "      <td>0.0487279843444227</td>\n",
              "      <td>0.21531985698023753</td>\n",
              "      <td>0.0</td>\n",
              "      <td>1.0</td>\n",
              "    </tr>\n",
              "  </tbody>\n",
              "</table>\n",
              "</div>"
            ]
          },
          "metadata": {
            "tags": []
          },
          "execution_count": 14
        }
      ]
    },
    {
      "cell_type": "code",
      "metadata": {
        "id": "tFX6hJmFI1lq"
      },
      "source": [
        "df = df.toPandas()"
      ],
      "execution_count": 169,
      "outputs": []
    },
    {
      "cell_type": "code",
      "metadata": {
        "id": "k-VvaoDdI1lq",
        "outputId": "b7275e52-1308-42f7-f5f8-2f25c49163d0"
      },
      "source": [
        "df['bmi'].fillna(value=df['bmi'].mean(), inplace=True)\n",
        "df.head()"
      ],
      "execution_count": 170,
      "outputs": [
        {
          "output_type": "execute_result",
          "data": {
            "text/plain": [
              "        id  gender   age  hypertension  heart_disease ever_married  \\\n",
              "0   9046.0    Male  67.0           0.0            1.0          Yes   \n",
              "1  51676.0  Female  61.0           0.0            0.0          Yes   \n",
              "2  31112.0    Male  80.0           0.0            1.0          Yes   \n",
              "3  60182.0  Female  49.0           0.0            0.0          Yes   \n",
              "4   1665.0  Female  79.0           1.0            0.0          Yes   \n",
              "\n",
              "       work_type Residence_type  avg_glucose_level        bmi  \\\n",
              "0        Private          Urban         228.690002  36.599998   \n",
              "1  Self-employed          Rural         202.210007  28.893234   \n",
              "2        Private          Rural         105.919998  32.500000   \n",
              "3        Private          Urban         171.229996  34.400002   \n",
              "4  Self-employed          Rural         174.119995  24.000000   \n",
              "\n",
              "    smoking_status  stroke  \n",
              "0  formerly smoked       1  \n",
              "1     never smoked       1  \n",
              "2     never smoked       1  \n",
              "3           smokes       1  \n",
              "4     never smoked       1  "
            ],
            "text/html": "<div>\n<style scoped>\n    .dataframe tbody tr th:only-of-type {\n        vertical-align: middle;\n    }\n\n    .dataframe tbody tr th {\n        vertical-align: top;\n    }\n\n    .dataframe thead th {\n        text-align: right;\n    }\n</style>\n<table border=\"1\" class=\"dataframe\">\n  <thead>\n    <tr style=\"text-align: right;\">\n      <th></th>\n      <th>id</th>\n      <th>gender</th>\n      <th>age</th>\n      <th>hypertension</th>\n      <th>heart_disease</th>\n      <th>ever_married</th>\n      <th>work_type</th>\n      <th>Residence_type</th>\n      <th>avg_glucose_level</th>\n      <th>bmi</th>\n      <th>smoking_status</th>\n      <th>stroke</th>\n    </tr>\n  </thead>\n  <tbody>\n    <tr>\n      <th>0</th>\n      <td>9046.0</td>\n      <td>Male</td>\n      <td>67.0</td>\n      <td>0.0</td>\n      <td>1.0</td>\n      <td>Yes</td>\n      <td>Private</td>\n      <td>Urban</td>\n      <td>228.690002</td>\n      <td>36.599998</td>\n      <td>formerly smoked</td>\n      <td>1</td>\n    </tr>\n    <tr>\n      <th>1</th>\n      <td>51676.0</td>\n      <td>Female</td>\n      <td>61.0</td>\n      <td>0.0</td>\n      <td>0.0</td>\n      <td>Yes</td>\n      <td>Self-employed</td>\n      <td>Rural</td>\n      <td>202.210007</td>\n      <td>28.893234</td>\n      <td>never smoked</td>\n      <td>1</td>\n    </tr>\n    <tr>\n      <th>2</th>\n      <td>31112.0</td>\n      <td>Male</td>\n      <td>80.0</td>\n      <td>0.0</td>\n      <td>1.0</td>\n      <td>Yes</td>\n      <td>Private</td>\n      <td>Rural</td>\n      <td>105.919998</td>\n      <td>32.500000</td>\n      <td>never smoked</td>\n      <td>1</td>\n    </tr>\n    <tr>\n      <th>3</th>\n      <td>60182.0</td>\n      <td>Female</td>\n      <td>49.0</td>\n      <td>0.0</td>\n      <td>0.0</td>\n      <td>Yes</td>\n      <td>Private</td>\n      <td>Urban</td>\n      <td>171.229996</td>\n      <td>34.400002</td>\n      <td>smokes</td>\n      <td>1</td>\n    </tr>\n    <tr>\n      <th>4</th>\n      <td>1665.0</td>\n      <td>Female</td>\n      <td>79.0</td>\n      <td>1.0</td>\n      <td>0.0</td>\n      <td>Yes</td>\n      <td>Self-employed</td>\n      <td>Rural</td>\n      <td>174.119995</td>\n      <td>24.000000</td>\n      <td>never smoked</td>\n      <td>1</td>\n    </tr>\n  </tbody>\n</table>\n</div>"
          },
          "metadata": {},
          "execution_count": 170
        }
      ]
    },
    {
      "cell_type": "code",
      "metadata": {
        "id": "56bKUpVZI1lr"
      },
      "source": [
        "data = df.drop(columns=['id', 'ever_married','Residence_type'], axis=1)"
      ],
      "execution_count": 171,
      "outputs": []
    },
    {
      "cell_type": "code",
      "metadata": {
        "id": "sM4Pe7UGI1lr",
        "outputId": "9ff5f3c6-8629-45ae-877a-0163b2b4bd52"
      },
      "source": [
        "data = data.replace(to_replace = 'Male', value = 1)\n",
        "data = data.replace(to_replace = 'Female', value = 0)\n",
        "data.head()"
      ],
      "execution_count": 172,
      "outputs": [
        {
          "output_type": "execute_result",
          "data": {
            "text/plain": [
              "  gender   age  hypertension  heart_disease      work_type  avg_glucose_level  \\\n",
              "0      1  67.0           0.0            1.0        Private         228.690002   \n",
              "1      0  61.0           0.0            0.0  Self-employed         202.210007   \n",
              "2      1  80.0           0.0            1.0        Private         105.919998   \n",
              "3      0  49.0           0.0            0.0        Private         171.229996   \n",
              "4      0  79.0           1.0            0.0  Self-employed         174.119995   \n",
              "\n",
              "         bmi   smoking_status  stroke  \n",
              "0  36.599998  formerly smoked       1  \n",
              "1  28.893234     never smoked       1  \n",
              "2  32.500000     never smoked       1  \n",
              "3  34.400002           smokes       1  \n",
              "4  24.000000     never smoked       1  "
            ],
            "text/html": "<div>\n<style scoped>\n    .dataframe tbody tr th:only-of-type {\n        vertical-align: middle;\n    }\n\n    .dataframe tbody tr th {\n        vertical-align: top;\n    }\n\n    .dataframe thead th {\n        text-align: right;\n    }\n</style>\n<table border=\"1\" class=\"dataframe\">\n  <thead>\n    <tr style=\"text-align: right;\">\n      <th></th>\n      <th>gender</th>\n      <th>age</th>\n      <th>hypertension</th>\n      <th>heart_disease</th>\n      <th>work_type</th>\n      <th>avg_glucose_level</th>\n      <th>bmi</th>\n      <th>smoking_status</th>\n      <th>stroke</th>\n    </tr>\n  </thead>\n  <tbody>\n    <tr>\n      <th>0</th>\n      <td>1</td>\n      <td>67.0</td>\n      <td>0.0</td>\n      <td>1.0</td>\n      <td>Private</td>\n      <td>228.690002</td>\n      <td>36.599998</td>\n      <td>formerly smoked</td>\n      <td>1</td>\n    </tr>\n    <tr>\n      <th>1</th>\n      <td>0</td>\n      <td>61.0</td>\n      <td>0.0</td>\n      <td>0.0</td>\n      <td>Self-employed</td>\n      <td>202.210007</td>\n      <td>28.893234</td>\n      <td>never smoked</td>\n      <td>1</td>\n    </tr>\n    <tr>\n      <th>2</th>\n      <td>1</td>\n      <td>80.0</td>\n      <td>0.0</td>\n      <td>1.0</td>\n      <td>Private</td>\n      <td>105.919998</td>\n      <td>32.500000</td>\n      <td>never smoked</td>\n      <td>1</td>\n    </tr>\n    <tr>\n      <th>3</th>\n      <td>0</td>\n      <td>49.0</td>\n      <td>0.0</td>\n      <td>0.0</td>\n      <td>Private</td>\n      <td>171.229996</td>\n      <td>34.400002</td>\n      <td>smokes</td>\n      <td>1</td>\n    </tr>\n    <tr>\n      <th>4</th>\n      <td>0</td>\n      <td>79.0</td>\n      <td>1.0</td>\n      <td>0.0</td>\n      <td>Self-employed</td>\n      <td>174.119995</td>\n      <td>24.000000</td>\n      <td>never smoked</td>\n      <td>1</td>\n    </tr>\n  </tbody>\n</table>\n</div>"
          },
          "metadata": {},
          "execution_count": 172
        }
      ]
    },
    {
      "cell_type": "code",
      "metadata": {
        "id": "4FSb_Ih9I1ls",
        "outputId": "84570014-2508-4298-e913-2348be67f98e"
      },
      "source": [
        "data.gender.value_counts()"
      ],
      "execution_count": 173,
      "outputs": [
        {
          "output_type": "execute_result",
          "data": {
            "text/plain": [
              "0        2994\n",
              "1        2115\n",
              "Other       1\n",
              "Name: gender, dtype: int64"
            ]
          },
          "metadata": {},
          "execution_count": 173
        }
      ]
    },
    {
      "cell_type": "code",
      "metadata": {
        "id": "hW_dTpiHI1ls",
        "outputId": "643b16ae-2096-4b03-86bd-49f6d49b7cab"
      },
      "source": [
        "data = data.replace(to_replace = 'Other',value = 1)\n",
        "data.gender.value_counts()"
      ],
      "execution_count": 174,
      "outputs": [
        {
          "output_type": "execute_result",
          "data": {
            "text/plain": [
              "0    2994\n",
              "1    2116\n",
              "Name: gender, dtype: int64"
            ]
          },
          "metadata": {},
          "execution_count": 174
        }
      ]
    },
    {
      "cell_type": "code",
      "metadata": {
        "id": "TkKIcPNMI1ls",
        "outputId": "f8752a38-f6ba-4fa1-e482-84526838e538"
      },
      "source": [
        "data[\"work_type\"] = data[\"work_type\"].astype(\"category\")\n",
        "data[\"work_type\"] = data[\"work_type\"].cat.codes\n",
        "data.head()"
      ],
      "execution_count": 175,
      "outputs": [
        {
          "output_type": "execute_result",
          "data": {
            "text/plain": [
              "   gender   age  hypertension  heart_disease  work_type  avg_glucose_level  \\\n",
              "0       1  67.0           0.0            1.0          2         228.690002   \n",
              "1       0  61.0           0.0            0.0          3         202.210007   \n",
              "2       1  80.0           0.0            1.0          2         105.919998   \n",
              "3       0  49.0           0.0            0.0          2         171.229996   \n",
              "4       0  79.0           1.0            0.0          3         174.119995   \n",
              "\n",
              "         bmi   smoking_status  stroke  \n",
              "0  36.599998  formerly smoked       1  \n",
              "1  28.893234     never smoked       1  \n",
              "2  32.500000     never smoked       1  \n",
              "3  34.400002           smokes       1  \n",
              "4  24.000000     never smoked       1  "
            ],
            "text/html": "<div>\n<style scoped>\n    .dataframe tbody tr th:only-of-type {\n        vertical-align: middle;\n    }\n\n    .dataframe tbody tr th {\n        vertical-align: top;\n    }\n\n    .dataframe thead th {\n        text-align: right;\n    }\n</style>\n<table border=\"1\" class=\"dataframe\">\n  <thead>\n    <tr style=\"text-align: right;\">\n      <th></th>\n      <th>gender</th>\n      <th>age</th>\n      <th>hypertension</th>\n      <th>heart_disease</th>\n      <th>work_type</th>\n      <th>avg_glucose_level</th>\n      <th>bmi</th>\n      <th>smoking_status</th>\n      <th>stroke</th>\n    </tr>\n  </thead>\n  <tbody>\n    <tr>\n      <th>0</th>\n      <td>1</td>\n      <td>67.0</td>\n      <td>0.0</td>\n      <td>1.0</td>\n      <td>2</td>\n      <td>228.690002</td>\n      <td>36.599998</td>\n      <td>formerly smoked</td>\n      <td>1</td>\n    </tr>\n    <tr>\n      <th>1</th>\n      <td>0</td>\n      <td>61.0</td>\n      <td>0.0</td>\n      <td>0.0</td>\n      <td>3</td>\n      <td>202.210007</td>\n      <td>28.893234</td>\n      <td>never smoked</td>\n      <td>1</td>\n    </tr>\n    <tr>\n      <th>2</th>\n      <td>1</td>\n      <td>80.0</td>\n      <td>0.0</td>\n      <td>1.0</td>\n      <td>2</td>\n      <td>105.919998</td>\n      <td>32.500000</td>\n      <td>never smoked</td>\n      <td>1</td>\n    </tr>\n    <tr>\n      <th>3</th>\n      <td>0</td>\n      <td>49.0</td>\n      <td>0.0</td>\n      <td>0.0</td>\n      <td>2</td>\n      <td>171.229996</td>\n      <td>34.400002</td>\n      <td>smokes</td>\n      <td>1</td>\n    </tr>\n    <tr>\n      <th>4</th>\n      <td>0</td>\n      <td>79.0</td>\n      <td>1.0</td>\n      <td>0.0</td>\n      <td>3</td>\n      <td>174.119995</td>\n      <td>24.000000</td>\n      <td>never smoked</td>\n      <td>1</td>\n    </tr>\n  </tbody>\n</table>\n</div>"
          },
          "metadata": {},
          "execution_count": 175
        }
      ]
    },
    {
      "cell_type": "code",
      "metadata": {
        "id": "yeq_I_fAI1lt",
        "outputId": "501018c9-75b8-488e-9f74-1176586d940e"
      },
      "source": [
        "data[\"smoking_status\"] = data[\"smoking_status\"].astype(\"category\")\n",
        "data[\"smoking_status\"] = data[\"smoking_status\"].cat.codes\n",
        "data.head()"
      ],
      "execution_count": 176,
      "outputs": [
        {
          "output_type": "execute_result",
          "data": {
            "text/plain": [
              "   gender   age  hypertension  heart_disease  work_type  avg_glucose_level  \\\n",
              "0       1  67.0           0.0            1.0          2         228.690002   \n",
              "1       0  61.0           0.0            0.0          3         202.210007   \n",
              "2       1  80.0           0.0            1.0          2         105.919998   \n",
              "3       0  49.0           0.0            0.0          2         171.229996   \n",
              "4       0  79.0           1.0            0.0          3         174.119995   \n",
              "\n",
              "         bmi  smoking_status  stroke  \n",
              "0  36.599998               1       1  \n",
              "1  28.893234               2       1  \n",
              "2  32.500000               2       1  \n",
              "3  34.400002               3       1  \n",
              "4  24.000000               2       1  "
            ],
            "text/html": "<div>\n<style scoped>\n    .dataframe tbody tr th:only-of-type {\n        vertical-align: middle;\n    }\n\n    .dataframe tbody tr th {\n        vertical-align: top;\n    }\n\n    .dataframe thead th {\n        text-align: right;\n    }\n</style>\n<table border=\"1\" class=\"dataframe\">\n  <thead>\n    <tr style=\"text-align: right;\">\n      <th></th>\n      <th>gender</th>\n      <th>age</th>\n      <th>hypertension</th>\n      <th>heart_disease</th>\n      <th>work_type</th>\n      <th>avg_glucose_level</th>\n      <th>bmi</th>\n      <th>smoking_status</th>\n      <th>stroke</th>\n    </tr>\n  </thead>\n  <tbody>\n    <tr>\n      <th>0</th>\n      <td>1</td>\n      <td>67.0</td>\n      <td>0.0</td>\n      <td>1.0</td>\n      <td>2</td>\n      <td>228.690002</td>\n      <td>36.599998</td>\n      <td>1</td>\n      <td>1</td>\n    </tr>\n    <tr>\n      <th>1</th>\n      <td>0</td>\n      <td>61.0</td>\n      <td>0.0</td>\n      <td>0.0</td>\n      <td>3</td>\n      <td>202.210007</td>\n      <td>28.893234</td>\n      <td>2</td>\n      <td>1</td>\n    </tr>\n    <tr>\n      <th>2</th>\n      <td>1</td>\n      <td>80.0</td>\n      <td>0.0</td>\n      <td>1.0</td>\n      <td>2</td>\n      <td>105.919998</td>\n      <td>32.500000</td>\n      <td>2</td>\n      <td>1</td>\n    </tr>\n    <tr>\n      <th>3</th>\n      <td>0</td>\n      <td>49.0</td>\n      <td>0.0</td>\n      <td>0.0</td>\n      <td>2</td>\n      <td>171.229996</td>\n      <td>34.400002</td>\n      <td>3</td>\n      <td>1</td>\n    </tr>\n    <tr>\n      <th>4</th>\n      <td>0</td>\n      <td>79.0</td>\n      <td>1.0</td>\n      <td>0.0</td>\n      <td>3</td>\n      <td>174.119995</td>\n      <td>24.000000</td>\n      <td>2</td>\n      <td>1</td>\n    </tr>\n  </tbody>\n</table>\n</div>"
          },
          "metadata": {},
          "execution_count": 176
        }
      ]
    },
    {
      "cell_type": "code",
      "metadata": {
        "id": "nSF9p5n5I1lt"
      },
      "source": [
        "data = spark.createDataFrame(data)"
      ],
      "execution_count": 177,
      "outputs": []
    },
    {
      "cell_type": "code",
      "metadata": {
        "id": "4Ho5daAAI1lu",
        "outputId": "5e18e7e8-c0dd-4363-d435-79d75ebc605b"
      },
      "source": [
        "data.show()"
      ],
      "execution_count": 178,
      "outputs": [
        {
          "output_type": "stream",
          "name": "stdout",
          "text": [
            "+------+----+------------+-------------+---------+------------------+------------------+--------------+------+\n|gender| age|hypertension|heart_disease|work_type| avg_glucose_level|               bmi|smoking_status|stroke|\n+------+----+------------+-------------+---------+------------------+------------------+--------------+------+\n|     1|67.0|         0.0|          1.0|        2|228.69000244140625|36.599998474121094|             1|     1|\n|     0|61.0|         0.0|          0.0|        3| 202.2100067138672|28.893234252929688|             2|     1|\n|     1|80.0|         0.0|          1.0|        2|105.91999816894531|              32.5|             2|     1|\n|     0|49.0|         0.0|          0.0|        2|171.22999572753906|34.400001525878906|             3|     1|\n|     0|79.0|         1.0|          0.0|        3| 174.1199951171875|              24.0|             2|     1|\n|     1|81.0|         0.0|          0.0|        2| 186.2100067138672|              29.0|             1|     1|\n|     1|74.0|         1.0|          1.0|        2| 70.08999633789062|27.399999618530273|             2|     1|\n|     0|69.0|         0.0|          0.0|        2| 94.38999938964844|22.799999237060547|             2|     1|\n|     0|59.0|         0.0|          0.0|        2|  76.1500015258789|28.893234252929688|             0|     1|\n|     0|78.0|         0.0|          0.0|        2| 58.56999969482422|24.200000762939453|             0|     1|\n|     0|81.0|         1.0|          0.0|        2| 80.43000030517578|29.700000762939453|             2|     1|\n|     0|61.0|         0.0|          1.0|        0|120.45999908447266| 36.79999923706055|             3|     1|\n|     0|54.0|         0.0|          0.0|        2|104.51000213623047|27.299999237060547|             3|     1|\n|     1|78.0|         0.0|          1.0|        2|219.83999633789062|28.893234252929688|             0|     1|\n|     0|79.0|         0.0|          1.0|        2|214.08999633789062|28.200000762939453|             2|     1|\n|     0|50.0|         1.0|          0.0|        3|167.41000366210938|30.899999618530273|             2|     1|\n|     1|64.0|         0.0|          1.0|        2|191.61000061035156|              37.5|             3|     1|\n|     1|75.0|         1.0|          0.0|        2| 221.2899932861328|25.799999237060547|             3|     1|\n|     0|60.0|         0.0|          0.0|        2| 89.22000122070312| 37.79999923706055|             2|     1|\n|     1|57.0|         0.0|          1.0|        0| 217.0800018310547|28.893234252929688|             0|     1|\n+------+----+------------+-------------+---------+------------------+------------------+--------------+------+\nonly showing top 20 rows\n\n"
          ]
        }
      ]
    },
    {
      "cell_type": "code",
      "execution_count": 180,
      "metadata": {},
      "outputs": [
        {
          "output_type": "stream",
          "name": "stdout",
          "text": [
            "root\n |-- gender: long (nullable = true)\n |-- age: double (nullable = true)\n |-- hypertension: double (nullable = true)\n |-- heart_disease: double (nullable = true)\n |-- work_type: long (nullable = true)\n |-- avg_glucose_level: double (nullable = true)\n |-- bmi: double (nullable = true)\n |-- smoking_status: long (nullable = true)\n |-- stroke: integer (nullable = true)\n\n"
          ]
        }
      ],
      "source": [
        "data.printSchema()"
      ]
    },
    {
      "cell_type": "code",
      "execution_count": 179,
      "metadata": {},
      "outputs": [],
      "source": [
        "data = data.withColumn('stroke', data['stroke'].cast(IntegerType()))"
      ]
    },
    {
      "cell_type": "markdown",
      "metadata": {
        "id": "HXzhKsqMJJz8"
      },
      "source": [
        "# Data Virtualization"
      ]
    },
    {
      "cell_type": "markdown",
      "metadata": {
        "id": "7gjvOxFHJOWD"
      },
      "source": [
        "# Data Modeling"
      ]
    },
    {
      "cell_type": "markdown",
      "metadata": {
        "id": "N17EAVXUJVGk"
      },
      "source": [
        "## Native Bayes"
      ]
    },
    {
      "cell_type": "code",
      "metadata": {
        "id": "_rZuJH_UI1lw"
      },
      "source": [
        "class NativeBayes:\n",
        "    def __init__(self, train, test, label):\n",
        "        self.train = train\n",
        "        self.test = test\n",
        "        self.label = label\n",
        "\n",
        "    def mean(self, train_y, numbers):\n",
        "        return (train_y.groupBy().mean(numbers).collect())[0][0]\n",
        "\n",
        "    def stdev(self, train_y, numbers):\n",
        "        avg = self.mean(train_y, numbers)\n",
        "        lendf = len(train_y.select(numbers).collect())\n",
        "        value = train_y.select(numbers).rdd.flatMap(lambda x: x).collect()\n",
        "        variance = sum([(x-avg)**2 for x in value]) / float(lendf - 1)\n",
        "        return sqrt(variance)\n",
        "\n",
        "    # return mean, stdev, count for each columns in train \n",
        "    def summarize_dataset(self, filter_train):\n",
        "        summaries = [(self.mean(filter_train, column), self.stdev(filter_train, column), filter_train.select(column).count())\n",
        "                     for column in filter_train.columns]\n",
        "        del(summaries[-1])\n",
        "        return summaries\n",
        "\n",
        "    def summarize_by_class(self, train):\n",
        "        summaries = dict()\n",
        "        lenqual = len(train.select([self.label]).rdd.flatMap(\n",
        "            lambda x: x).distinct().collect())\n",
        "        for i in range(0, lenqual):\n",
        "            item = train.select([self.label]).rdd.flatMap(\n",
        "                lambda x: x).distinct().collect()[i]\n",
        "            filter_train = train.filter(train[self.label] == item)\n",
        "            summaries[item] = self.summarize_dataset(filter_train)\n",
        "        return summaries\n",
        "\n",
        "    def calculate_class_probabilities(self, summaries, row):\n",
        "        total_rows = sum([summaries[label][0][2] for label in summaries])\n",
        "        probabilities = dict()\n",
        "        for class_value, class_summaries in summaries.items():\n",
        "            probabilities[class_value] = summaries[class_value][0][2] / \\\n",
        "                float(total_rows)\n",
        "            for i in range(0, len(class_summaries)):\n",
        "                mean, stdev, _ = class_summaries[i]\n",
        "                probabilities[class_value] *= self.calculate_probability(\n",
        "                    row[i], mean, stdev)\n",
        "        return probabilities\n",
        "\n",
        "    def calculate_probability(self, x, mean, stdev):\n",
        "        exponent = exp(-((x-mean)**2 / (2 * stdev**2)))\n",
        "        return (1 / (sqrt(2 * pi) * stdev)) * exponent\n",
        "\n",
        "    def predict(self, summaries, row):\n",
        "        probabilities = self.calculate_class_probabilities(summaries, row)\n",
        "        best_label, best_prob = None, -1\n",
        "        for class_value, probability in probabilities.items():\n",
        "            if best_label is None or probability > best_prob:\n",
        "                best_prob = probability\n",
        "                best_label = class_value\n",
        "        return best_label\n",
        "\n",
        "#   return y label\n",
        "    def fit(self):\n",
        "        summarize = self.summarize_by_class(self.train)\n",
        "        predictions = list()\n",
        "        for row in self.test.collect():\n",
        "            output = self.predict(summarize, row)\n",
        "            predictions.append(output)\n",
        "        return(predictions)\n"
      ],
      "execution_count": null,
      "outputs": []
    },
    {
      "cell_type": "code",
      "metadata": {
        "id": "h2kt6UG9I1ly"
      },
      "source": [
        "native_bayes = NativeBayes(train=train,test=test, label='stroke')"
      ],
      "execution_count": null,
      "outputs": []
    },
    {
      "source": [
        "## Logistic regression"
      ],
      "cell_type": "markdown",
      "metadata": {}
    },
    {
      "cell_type": "code",
      "execution_count": 15,
      "metadata": {},
      "outputs": [],
      "source": [
        "def cal_z(x, theta):\n",
        "    \"\"\"\n",
        "    Parameters\n",
        "    ----------\n",
        "    x shape: (95, 3) \n",
        "    theta shape: (3, 1)\n",
        "    Returns\n",
        "    ----------\n",
        "    z shape (95, 1)\n",
        "    \"\"\"\n",
        "    return np.dot(x, theta)"
      ]
    },
    {
      "cell_type": "code",
      "execution_count": 182,
      "metadata": {},
      "outputs": [],
      "source": [
        "def sigmoid(z):\n",
        "    \"\"\"\n",
        "    Parameters\n",
        "    z shape: (95, 1)\n",
        "    Returns\n",
        "    output shape: (95, 1)\n",
        "    \"\"\"\n",
        "    return 1 / (1 + np.exp(-z))"
      ]
    },
    {
      "cell_type": "code",
      "execution_count": 17,
      "metadata": {},
      "outputs": [],
      "source": [
        "def cal_h_theta(x, theta):\n",
        "    \"\"\"\n",
        "    Parameters\n",
        "    ----------\n",
        "    x shape: (95, 3)\n",
        "    theta shape: (3, 1)\n",
        "    Returns\n",
        "    ----------\n",
        "    output shape: (95, 1)\n",
        "    \"\"\"\n",
        "    z = cal_z(x, theta)\n",
        "    return sigmoid(z)"
      ]
    },
    {
      "cell_type": "code",
      "execution_count": 19,
      "metadata": {},
      "outputs": [],
      "source": [
        "def loss_function(x, y, theta):\n",
        "    \"\"\"\n",
        "    Parameters\n",
        "    ----------\n",
        "    x shape: (95, 3)\n",
        "    y shape: (95, 1)\n",
        "    theta shape: (3, 1)\n",
        "    Returns\n",
        "    ----------\n",
        "    loss: float\n",
        "    \"\"\"\n",
        "    h_theta = cal_h_theta(x, theta)\n",
        "    loss = -(y*np.log(h_theta) + (1-y)*np.log(1-h_theta))\n",
        "    return np.mean(loss)"
      ]
    },
    {
      "cell_type": "code",
      "execution_count": 21,
      "metadata": {},
      "outputs": [],
      "source": [
        "def gradient(x, y, theta):\n",
        "    \"\"\"\n",
        "    Parameters\n",
        "    ----------\n",
        "    x shape: (95, 3)\n",
        "    y shape: (95, 1)\n",
        "    theta shape: (3, 1)\n",
        "    Returns\n",
        "    ----------\n",
        "    grad shape: (3, 1)\n",
        "    \"\"\"\n",
        "    h_theta = cal_h_theta(x, theta)\n",
        "    grad = np.mean(x*(h_theta-y), axis=0)\n",
        "    return grad.reshape((grad.shape[0], 1))"
      ]
    },
    {
      "cell_type": "code",
      "execution_count": 159,
      "metadata": {},
      "outputs": [
        {
          "output_type": "stream",
          "name": "stdout",
          "text": [
            "+------+----+------------+-------------+---------+------------------+------------------+--------------+---+\n|gender| age|hypertension|heart_disease|work_type| avg_glucose_level|               bmi|smoking_status|  X|\n+------+----+------------+-------------+---------+------------------+------------------+--------------+---+\n|     1|67.0|         0.0|          1.0|        2|228.69000244140625|36.599998474121094|             1|  1|\n|     0|61.0|         0.0|          0.0|        3| 202.2100067138672|28.893234252929688|             2|  1|\n|     1|80.0|         0.0|          1.0|        2|105.91999816894531|              32.5|             2|  1|\n|     0|49.0|         0.0|          0.0|        2|171.22999572753906|34.400001525878906|             3|  1|\n|     0|79.0|         1.0|          0.0|        3| 174.1199951171875|              24.0|             2|  1|\n|     1|81.0|         0.0|          0.0|        2| 186.2100067138672|              29.0|             1|  1|\n|     1|74.0|         1.0|          1.0|        2| 70.08999633789062|27.399999618530273|             2|  1|\n|     0|69.0|         0.0|          0.0|        2| 94.38999938964844|22.799999237060547|             2|  1|\n|     0|59.0|         0.0|          0.0|        2|  76.1500015258789|28.893234252929688|             0|  1|\n|     0|78.0|         0.0|          0.0|        2| 58.56999969482422|24.200000762939453|             0|  1|\n|     0|81.0|         1.0|          0.0|        2| 80.43000030517578|29.700000762939453|             2|  1|\n|     0|61.0|         0.0|          1.0|        0|120.45999908447266| 36.79999923706055|             3|  1|\n|     0|54.0|         0.0|          0.0|        2|104.51000213623047|27.299999237060547|             3|  1|\n|     1|78.0|         0.0|          1.0|        2|219.83999633789062|28.893234252929688|             0|  1|\n|     0|79.0|         0.0|          1.0|        2|214.08999633789062|28.200000762939453|             2|  1|\n|     0|50.0|         1.0|          0.0|        3|167.41000366210938|30.899999618530273|             2|  1|\n|     1|64.0|         0.0|          1.0|        2|191.61000061035156|              37.5|             3|  1|\n|     1|75.0|         1.0|          0.0|        2| 221.2899932861328|25.799999237060547|             3|  1|\n|     0|60.0|         0.0|          0.0|        2| 89.22000122070312| 37.79999923706055|             2|  1|\n|     1|57.0|         0.0|          1.0|        0| 217.0800018310547|28.893234252929688|             0|  1|\n+------+----+------------+-------------+---------+------------------+------------------+--------------+---+\nonly showing top 20 rows\n\n"
          ]
        }
      ],
      "source": [
        "X = X.withColumn('X', lit(1))\n",
        "X.show()"
      ]
    },
    {
      "cell_type": "code",
      "execution_count": 30,
      "metadata": {},
      "outputs": [],
      "source": [
        "theta = np.zeros((len(X.columns), 1))"
      ]
    },
    {
      "cell_type": "code",
      "execution_count": 31,
      "metadata": {},
      "outputs": [
        {
          "output_type": "execute_result",
          "data": {
            "text/plain": [
              "array([[0.],\n",
              "       [0.],\n",
              "       [0.],\n",
              "       [0.],\n",
              "       [0.],\n",
              "       [0.],\n",
              "       [0.],\n",
              "       [0.],\n",
              "       [0.]])"
            ]
          },
          "metadata": {},
          "execution_count": 31
        }
      ],
      "source": [
        "theta"
      ]
    },
    {
      "cell_type": "code",
      "execution_count": 181,
      "metadata": {},
      "outputs": [],
      "source": [
        "train, test = data.randomSplit([0.7, 0.3])"
      ]
    },
    {
      "cell_type": "code",
      "execution_count": 161,
      "metadata": {},
      "outputs": [],
      "source": [
        "def normalize(train, test):\n",
        "    stats = {}\n",
        "\n",
        "    for column in train.columns:\n",
        "        df_stats = train.select(\n",
        "            mean(col(column)).alias('mean'),\n",
        "            stddev(col(column)).alias('std')\n",
        "        ).collect()\n",
        "        stats[column] = {\n",
        "            'mean': df_stats[0]['mean'],\n",
        "            'std': df_stats[0]['std']\n",
        "        }\n",
        "\n",
        "    for column in train.columns:\n",
        "        if(column == 'X'): continue\n",
        "        train = train.withColumn(column, (col(column) - stats[column]['mean']) / stats[column]['std'])\n",
        "    \n",
        "    for column in test.columns:\n",
        "        df_stats = test.select(\n",
        "            mean(col(column)).alias('mean'),\n",
        "            stddev(col(column)).alias('std')\n",
        "        ).collect()\n",
        "        stats[column] = {\n",
        "            'mean': df_stats[0]['mean'],\n",
        "            'std': df_stats[0]['std']\n",
        "        }\n",
        "\n",
        "    for column in test.columns:\n",
        "        if(column == 'X'): continue\n",
        "        test = test.withColumn(column, (col(column) - stats[column]['mean']) / stats[column]['std'])\n",
        "    return train, test"
      ]
    },
    {
      "cell_type": "code",
      "execution_count": 162,
      "metadata": {},
      "outputs": [
        {
          "output_type": "error",
          "ename": "AttributeError",
          "evalue": "'PipelinedRDD' object has no attribute 'columns'",
          "traceback": [
            "\u001b[0;31m---------------------------------------------------------------------------\u001b[0m",
            "\u001b[0;31mAttributeError\u001b[0m                            Traceback (most recent call last)",
            "\u001b[0;32m<ipython-input-162-4425edcd2f12>\u001b[0m in \u001b[0;36m<module>\u001b[0;34m\u001b[0m\n\u001b[0;32m----> 1\u001b[0;31m \u001b[0mtrain_x\u001b[0m\u001b[0;34m,\u001b[0m \u001b[0mtest_x\u001b[0m \u001b[0;34m=\u001b[0m \u001b[0mnormalize\u001b[0m\u001b[0;34m(\u001b[0m\u001b[0mtrain\u001b[0m\u001b[0;34m,\u001b[0m \u001b[0mtest\u001b[0m\u001b[0;34m)\u001b[0m\u001b[0;34m\u001b[0m\u001b[0;34m\u001b[0m\u001b[0m\n\u001b[0m",
            "\u001b[0;32m<ipython-input-161-07b8c0142dd0>\u001b[0m in \u001b[0;36mnormalize\u001b[0;34m(train, test)\u001b[0m\n\u001b[1;32m      2\u001b[0m     \u001b[0mstats\u001b[0m \u001b[0;34m=\u001b[0m \u001b[0;34m{\u001b[0m\u001b[0;34m}\u001b[0m\u001b[0;34m\u001b[0m\u001b[0;34m\u001b[0m\u001b[0m\n\u001b[1;32m      3\u001b[0m \u001b[0;34m\u001b[0m\u001b[0m\n\u001b[0;32m----> 4\u001b[0;31m     \u001b[0;32mfor\u001b[0m \u001b[0mcolumn\u001b[0m \u001b[0;32min\u001b[0m \u001b[0mtrain\u001b[0m\u001b[0;34m.\u001b[0m\u001b[0mcolumns\u001b[0m\u001b[0;34m:\u001b[0m\u001b[0;34m\u001b[0m\u001b[0;34m\u001b[0m\u001b[0m\n\u001b[0m\u001b[1;32m      5\u001b[0m         df_stats = train.select(\n\u001b[1;32m      6\u001b[0m             \u001b[0mmean\u001b[0m\u001b[0;34m(\u001b[0m\u001b[0mcol\u001b[0m\u001b[0;34m(\u001b[0m\u001b[0mcolumn\u001b[0m\u001b[0;34m)\u001b[0m\u001b[0;34m)\u001b[0m\u001b[0;34m.\u001b[0m\u001b[0malias\u001b[0m\u001b[0;34m(\u001b[0m\u001b[0;34m'mean'\u001b[0m\u001b[0;34m)\u001b[0m\u001b[0;34m,\u001b[0m\u001b[0;34m\u001b[0m\u001b[0;34m\u001b[0m\u001b[0m\n",
            "\u001b[0;31mAttributeError\u001b[0m: 'PipelinedRDD' object has no attribute 'columns'"
          ]
        }
      ],
      "source": [
        "train_x, test_x = normalize(train, test)"
      ]
    },
    {
      "cell_type": "code",
      "execution_count": 204,
      "metadata": {},
      "outputs": [
        {
          "output_type": "execute_result",
          "data": {
            "text/plain": [
              "3561"
            ]
          },
          "metadata": {},
          "execution_count": 204
        }
      ],
      "source": [
        "train.count()"
      ]
    },
    {
      "cell_type": "code",
      "execution_count": 147,
      "metadata": {},
      "outputs": [
        {
          "output_type": "execute_result",
          "data": {
            "text/plain": [
              "1517"
            ]
          },
          "metadata": {},
          "execution_count": 147
        }
      ],
      "source": [
        "test_x.count()"
      ]
    },
    {
      "cell_type": "code",
      "execution_count": 184,
      "metadata": {},
      "outputs": [],
      "source": [
        "def predict(X, theta):\n",
        "    prob = sigmoid(np.dot(X, theta))\n",
        "    return [1 if x >= 0.5 else 0 for x in prob]"
      ]
    },
    {
      "cell_type": "code",
      "execution_count": 152,
      "metadata": {},
      "outputs": [
        {
          "output_type": "error",
          "ename": "SyntaxError",
          "evalue": "invalid character in identifier (<ipython-input-152-2f98959edde4>, line 1)",
          "traceback": [
            "\u001b[0;36m  File \u001b[0;32m\"<ipython-input-152-2f98959edde4>\"\u001b[0;36m, line \u001b[0;32m1\u001b[0m\n\u001b[0;31m    def sigmoid(z):\u001b[0m\n\u001b[0m              ^\u001b[0m\n\u001b[0;31mSyntaxError\u001b[0m\u001b[0;31m:\u001b[0m invalid character in identifier\n"
          ]
        }
      ],
      "source": [
        "def sigmoid(z):\n",
        "    return 1.0 / (1.0 + Positiveexp(-z))"
      ]
    },
    {
      "cell_type": "code",
      "execution_count": 212,
      "metadata": {},
      "outputs": [],
      "source": [
        "def gradient_descent(X, theta, alpha, num_inters):\n",
        "    m = X.count()\n",
        "    for i in range(num_inters):\n",
        "        delta = X.map(\n",
        "            lambda p: np.array(p['x']) * (sigmoid(np.dot(p['x'], theta))-p['y'])).reduce(lambda x, y: x+y)\n",
        "        \n",
        "        theta -= delta*alpha/m\n",
        "    return theta"
      ]
    },
    {
      "cell_type": "code",
      "execution_count": 213,
      "metadata": {
        "tags": []
      },
      "outputs": [],
      "source": [
        "theta = np.zeros(len(train.columns)-1)\n",
        "\n",
        "data = train.rdd.map(list).map(lambda p: { 'x': p[:len(p)-1], 'y': p[-1]})\n",
        "\n",
        "theta = gradient_descent(data, theta, 0.1, 1000)\n"
      ]
    },
    {
      "cell_type": "code",
      "execution_count": 214,
      "metadata": {},
      "outputs": [
        {
          "output_type": "execute_result",
          "data": {
            "text/plain": [
              "array([-0.05411841,  0.99681122,  0.45966052,  0.4070953 , -1.00448804,\n",
              "       -0.27415932, -3.14730214, -0.41677919])"
            ]
          },
          "metadata": {},
          "execution_count": 214
        }
      ],
      "source": [
        "theta"
      ]
    },
    {
      "cell_type": "code",
      "execution_count": null,
      "metadata": {},
      "outputs": [],
      "source": [
        "num_epoches = 10000\n",
        "learning_rate = 0.1\n",
        "\n",
        "\n",
        "\n",
        "for e in range(num_epoches):\n",
        "    # Tính gradient\n",
        "    grad = gradient(train_x, train_y, theta)\n",
        "    \n",
        "    # Update theta\n",
        "    theta = theta - learning_rate * grad\n",
        "    total_loss = loss_function(train_x, train_y, theta)\n",
        "    \n",
        "    \n",
        "    if e % 1000 == 0:\n",
        "        print(total_loss)\n",
        "    \n",
        "print('Training finished')"
      ]
    },
    {
      "cell_type": "code",
      "execution_count": 221,
      "metadata": {},
      "outputs": [],
      "source": [
        "rdd_kq = test.rdd.map(lambda x:(sigmoid(sum(float(x[i])*float(theta[i]) for i in range(len(x)-1)))))\n",
        "rdd_kq = rdd_kq.map(lambda x: (1 if x >=0.5 else 0))\n",
        "\n"
      ]
    },
    {
      "cell_type": "code",
      "execution_count": 229,
      "metadata": {},
      "outputs": [
        {
          "output_type": "stream",
          "name": "stdout",
          "text": [
            "[[1472    0]\n [  76    1]]\n"
          ]
        },
        {
          "output_type": "execute_result",
          "data": {
            "text/plain": [
              "Text(0.5, 1.0, 'Accuracy Score: 0.95')"
            ]
          },
          "metadata": {},
          "execution_count": 229
        },
        {
          "output_type": "display_data",
          "data": {
            "text/plain": "<Figure size 432x432 with 2 Axes>",
            "image/svg+xml": "<?xml version=\"1.0\" encoding=\"utf-8\" standalone=\"no\"?>\n<!DOCTYPE svg PUBLIC \"-//W3C//DTD SVG 1.1//EN\"\n  \"http://www.w3.org/Graphics/SVG/1.1/DTD/svg11.dtd\">\n<svg height=\"388.313906pt\" version=\"1.1\" viewBox=\"0 0 378.09425 388.313906\" width=\"378.09425pt\" xmlns=\"http://www.w3.org/2000/svg\" xmlns:xlink=\"http://www.w3.org/1999/xlink\">\n <metadata>\n  <rdf:RDF xmlns:cc=\"http://creativecommons.org/ns#\" xmlns:dc=\"http://purl.org/dc/elements/1.1/\" xmlns:rdf=\"http://www.w3.org/1999/02/22-rdf-syntax-ns#\">\n   <cc:Work>\n    <dc:type rdf:resource=\"http://purl.org/dc/dcmitype/StillImage\"/>\n    <dc:date>2021-06-03T19:17:14.215832</dc:date>\n    <dc:format>image/svg+xml</dc:format>\n    <dc:creator>\n     <cc:Agent>\n      <dc:title>Matplotlib v3.4.2, https://matplotlib.org/</dc:title>\n     </cc:Agent>\n    </dc:creator>\n   </cc:Work>\n  </rdf:RDF>\n </metadata>\n <defs>\n  <style type=\"text/css\">*{stroke-linecap:butt;stroke-linejoin:round;}</style>\n </defs>\n <g id=\"figure_1\">\n  <g id=\"patch_1\">\n   <path d=\"M 0 388.313906 \nL 378.09425 388.313906 \nL 378.09425 0 \nL 0 0 \nz\n\" style=\"fill:none;\"/>\n  </g>\n  <g id=\"axes_1\">\n   <g id=\"patch_2\">\n    <path d=\"M 37.55625 350.757656 \nL 305.39625 350.757656 \nL 305.39625 24.597656 \nL 37.55625 24.597656 \nz\n\" style=\"fill:#ffffff;\"/>\n   </g>\n   <g id=\"QuadMesh_1\">\n    <path clip-path=\"url(#p422f6545d1)\" d=\"M 37.55625 24.597656 \nL 171.47625 24.597656 \nL 171.47625 187.677656 \nL 37.55625 187.677656 \nL 37.55625 24.597656 \n\" style=\"fill:#faebdd;\"/>\n    <path clip-path=\"url(#p422f6545d1)\" d=\"M 171.47625 24.597656 \nL 305.39625 24.597656 \nL 305.39625 187.677656 \nL 171.47625 187.677656 \nL 171.47625 24.597656 \n\" style=\"fill:#03051a;\"/>\n    <path clip-path=\"url(#p422f6545d1)\" d=\"M 37.55625 187.677656 \nL 171.47625 187.677656 \nL 171.47625 350.757656 \nL 37.55625 350.757656 \nL 37.55625 187.677656 \n\" style=\"fill:#140e26;\"/>\n    <path clip-path=\"url(#p422f6545d1)\" d=\"M 171.47625 187.677656 \nL 305.39625 187.677656 \nL 305.39625 350.757656 \nL 171.47625 350.757656 \nL 171.47625 187.677656 \n\" style=\"fill:#03051a;\"/>\n   </g>\n   <g id=\"matplotlib.axis_1\">\n    <g id=\"xtick_1\">\n     <g id=\"line2d_1\">\n      <defs>\n       <path d=\"M 0 0 \nL 0 3.5 \n\" id=\"ma1ef4ed79d\" style=\"stroke:#000000;stroke-width:0.8;\"/>\n      </defs>\n      <g>\n       <use style=\"stroke:#000000;stroke-width:0.8;\" x=\"104.51625\" xlink:href=\"#ma1ef4ed79d\" y=\"350.757656\"/>\n      </g>\n     </g>\n     <g id=\"text_1\">\n      <!-- 0 -->\n      <g transform=\"translate(101.335 365.356094)scale(0.1 -0.1)\">\n       <defs>\n        <path d=\"M 2034 4250 \nQ 1547 4250 1301 3770 \nQ 1056 3291 1056 2328 \nQ 1056 1369 1301 889 \nQ 1547 409 2034 409 \nQ 2525 409 2770 889 \nQ 3016 1369 3016 2328 \nQ 3016 3291 2770 3770 \nQ 2525 4250 2034 4250 \nz\nM 2034 4750 \nQ 2819 4750 3233 4129 \nQ 3647 3509 3647 2328 \nQ 3647 1150 3233 529 \nQ 2819 -91 2034 -91 \nQ 1250 -91 836 529 \nQ 422 1150 422 2328 \nQ 422 3509 836 4129 \nQ 1250 4750 2034 4750 \nz\n\" id=\"DejaVuSans-30\" transform=\"scale(0.015625)\"/>\n       </defs>\n       <use xlink:href=\"#DejaVuSans-30\"/>\n      </g>\n     </g>\n    </g>\n    <g id=\"xtick_2\">\n     <g id=\"line2d_2\">\n      <g>\n       <use style=\"stroke:#000000;stroke-width:0.8;\" x=\"238.43625\" xlink:href=\"#ma1ef4ed79d\" y=\"350.757656\"/>\n      </g>\n     </g>\n     <g id=\"text_2\">\n      <!-- 1 -->\n      <g transform=\"translate(235.255 365.356094)scale(0.1 -0.1)\">\n       <defs>\n        <path d=\"M 794 531 \nL 1825 531 \nL 1825 4091 \nL 703 3866 \nL 703 4441 \nL 1819 4666 \nL 2450 4666 \nL 2450 531 \nL 3481 531 \nL 3481 0 \nL 794 0 \nL 794 531 \nz\n\" id=\"DejaVuSans-31\" transform=\"scale(0.015625)\"/>\n       </defs>\n       <use xlink:href=\"#DejaVuSans-31\"/>\n      </g>\n     </g>\n    </g>\n    <g id=\"text_3\">\n     <!-- Predicted label -->\n     <g transform=\"translate(134.323906 379.034219)scale(0.1 -0.1)\">\n      <defs>\n       <path d=\"M 1259 4147 \nL 1259 2394 \nL 2053 2394 \nQ 2494 2394 2734 2622 \nQ 2975 2850 2975 3272 \nQ 2975 3691 2734 3919 \nQ 2494 4147 2053 4147 \nL 1259 4147 \nz\nM 628 4666 \nL 2053 4666 \nQ 2838 4666 3239 4311 \nQ 3641 3956 3641 3272 \nQ 3641 2581 3239 2228 \nQ 2838 1875 2053 1875 \nL 1259 1875 \nL 1259 0 \nL 628 0 \nL 628 4666 \nz\n\" id=\"DejaVuSans-50\" transform=\"scale(0.015625)\"/>\n       <path d=\"M 2631 2963 \nQ 2534 3019 2420 3045 \nQ 2306 3072 2169 3072 \nQ 1681 3072 1420 2755 \nQ 1159 2438 1159 1844 \nL 1159 0 \nL 581 0 \nL 581 3500 \nL 1159 3500 \nL 1159 2956 \nQ 1341 3275 1631 3429 \nQ 1922 3584 2338 3584 \nQ 2397 3584 2469 3576 \nQ 2541 3569 2628 3553 \nL 2631 2963 \nz\n\" id=\"DejaVuSans-72\" transform=\"scale(0.015625)\"/>\n       <path d=\"M 3597 1894 \nL 3597 1613 \nL 953 1613 \nQ 991 1019 1311 708 \nQ 1631 397 2203 397 \nQ 2534 397 2845 478 \nQ 3156 559 3463 722 \nL 3463 178 \nQ 3153 47 2828 -22 \nQ 2503 -91 2169 -91 \nQ 1331 -91 842 396 \nQ 353 884 353 1716 \nQ 353 2575 817 3079 \nQ 1281 3584 2069 3584 \nQ 2775 3584 3186 3129 \nQ 3597 2675 3597 1894 \nz\nM 3022 2063 \nQ 3016 2534 2758 2815 \nQ 2500 3097 2075 3097 \nQ 1594 3097 1305 2825 \nQ 1016 2553 972 2059 \nL 3022 2063 \nz\n\" id=\"DejaVuSans-65\" transform=\"scale(0.015625)\"/>\n       <path d=\"M 2906 2969 \nL 2906 4863 \nL 3481 4863 \nL 3481 0 \nL 2906 0 \nL 2906 525 \nQ 2725 213 2448 61 \nQ 2172 -91 1784 -91 \nQ 1150 -91 751 415 \nQ 353 922 353 1747 \nQ 353 2572 751 3078 \nQ 1150 3584 1784 3584 \nQ 2172 3584 2448 3432 \nQ 2725 3281 2906 2969 \nz\nM 947 1747 \nQ 947 1113 1208 752 \nQ 1469 391 1925 391 \nQ 2381 391 2643 752 \nQ 2906 1113 2906 1747 \nQ 2906 2381 2643 2742 \nQ 2381 3103 1925 3103 \nQ 1469 3103 1208 2742 \nQ 947 2381 947 1747 \nz\n\" id=\"DejaVuSans-64\" transform=\"scale(0.015625)\"/>\n       <path d=\"M 603 3500 \nL 1178 3500 \nL 1178 0 \nL 603 0 \nL 603 3500 \nz\nM 603 4863 \nL 1178 4863 \nL 1178 4134 \nL 603 4134 \nL 603 4863 \nz\n\" id=\"DejaVuSans-69\" transform=\"scale(0.015625)\"/>\n       <path d=\"M 3122 3366 \nL 3122 2828 \nQ 2878 2963 2633 3030 \nQ 2388 3097 2138 3097 \nQ 1578 3097 1268 2742 \nQ 959 2388 959 1747 \nQ 959 1106 1268 751 \nQ 1578 397 2138 397 \nQ 2388 397 2633 464 \nQ 2878 531 3122 666 \nL 3122 134 \nQ 2881 22 2623 -34 \nQ 2366 -91 2075 -91 \nQ 1284 -91 818 406 \nQ 353 903 353 1747 \nQ 353 2603 823 3093 \nQ 1294 3584 2113 3584 \nQ 2378 3584 2631 3529 \nQ 2884 3475 3122 3366 \nz\n\" id=\"DejaVuSans-63\" transform=\"scale(0.015625)\"/>\n       <path d=\"M 1172 4494 \nL 1172 3500 \nL 2356 3500 \nL 2356 3053 \nL 1172 3053 \nL 1172 1153 \nQ 1172 725 1289 603 \nQ 1406 481 1766 481 \nL 2356 481 \nL 2356 0 \nL 1766 0 \nQ 1100 0 847 248 \nQ 594 497 594 1153 \nL 594 3053 \nL 172 3053 \nL 172 3500 \nL 594 3500 \nL 594 4494 \nL 1172 4494 \nz\n\" id=\"DejaVuSans-74\" transform=\"scale(0.015625)\"/>\n       <path id=\"DejaVuSans-20\" transform=\"scale(0.015625)\"/>\n       <path d=\"M 603 4863 \nL 1178 4863 \nL 1178 0 \nL 603 0 \nL 603 4863 \nz\n\" id=\"DejaVuSans-6c\" transform=\"scale(0.015625)\"/>\n       <path d=\"M 2194 1759 \nQ 1497 1759 1228 1600 \nQ 959 1441 959 1056 \nQ 959 750 1161 570 \nQ 1363 391 1709 391 \nQ 2188 391 2477 730 \nQ 2766 1069 2766 1631 \nL 2766 1759 \nL 2194 1759 \nz\nM 3341 1997 \nL 3341 0 \nL 2766 0 \nL 2766 531 \nQ 2569 213 2275 61 \nQ 1981 -91 1556 -91 \nQ 1019 -91 701 211 \nQ 384 513 384 1019 \nQ 384 1609 779 1909 \nQ 1175 2209 1959 2209 \nL 2766 2209 \nL 2766 2266 \nQ 2766 2663 2505 2880 \nQ 2244 3097 1772 3097 \nQ 1472 3097 1187 3025 \nQ 903 2953 641 2809 \nL 641 3341 \nQ 956 3463 1253 3523 \nQ 1550 3584 1831 3584 \nQ 2591 3584 2966 3190 \nQ 3341 2797 3341 1997 \nz\n\" id=\"DejaVuSans-61\" transform=\"scale(0.015625)\"/>\n       <path d=\"M 3116 1747 \nQ 3116 2381 2855 2742 \nQ 2594 3103 2138 3103 \nQ 1681 3103 1420 2742 \nQ 1159 2381 1159 1747 \nQ 1159 1113 1420 752 \nQ 1681 391 2138 391 \nQ 2594 391 2855 752 \nQ 3116 1113 3116 1747 \nz\nM 1159 2969 \nQ 1341 3281 1617 3432 \nQ 1894 3584 2278 3584 \nQ 2916 3584 3314 3078 \nQ 3713 2572 3713 1747 \nQ 3713 922 3314 415 \nQ 2916 -91 2278 -91 \nQ 1894 -91 1617 61 \nQ 1341 213 1159 525 \nL 1159 0 \nL 581 0 \nL 581 4863 \nL 1159 4863 \nL 1159 2969 \nz\n\" id=\"DejaVuSans-62\" transform=\"scale(0.015625)\"/>\n      </defs>\n      <use xlink:href=\"#DejaVuSans-50\"/>\n      <use x=\"58.552734\" xlink:href=\"#DejaVuSans-72\"/>\n      <use x=\"97.416016\" xlink:href=\"#DejaVuSans-65\"/>\n      <use x=\"158.939453\" xlink:href=\"#DejaVuSans-64\"/>\n      <use x=\"222.416016\" xlink:href=\"#DejaVuSans-69\"/>\n      <use x=\"250.199219\" xlink:href=\"#DejaVuSans-63\"/>\n      <use x=\"305.179688\" xlink:href=\"#DejaVuSans-74\"/>\n      <use x=\"344.388672\" xlink:href=\"#DejaVuSans-65\"/>\n      <use x=\"405.912109\" xlink:href=\"#DejaVuSans-64\"/>\n      <use x=\"469.388672\" xlink:href=\"#DejaVuSans-20\"/>\n      <use x=\"501.175781\" xlink:href=\"#DejaVuSans-6c\"/>\n      <use x=\"528.958984\" xlink:href=\"#DejaVuSans-61\"/>\n      <use x=\"590.238281\" xlink:href=\"#DejaVuSans-62\"/>\n      <use x=\"653.714844\" xlink:href=\"#DejaVuSans-65\"/>\n      <use x=\"715.238281\" xlink:href=\"#DejaVuSans-6c\"/>\n     </g>\n    </g>\n   </g>\n   <g id=\"matplotlib.axis_2\">\n    <g id=\"ytick_1\">\n     <g id=\"line2d_3\">\n      <defs>\n       <path d=\"M 0 0 \nL -3.5 0 \n\" id=\"mc206960c4d\" style=\"stroke:#000000;stroke-width:0.8;\"/>\n      </defs>\n      <g>\n       <use style=\"stroke:#000000;stroke-width:0.8;\" x=\"37.55625\" xlink:href=\"#mc206960c4d\" y=\"106.137656\"/>\n      </g>\n     </g>\n     <g id=\"text_4\">\n      <!-- 0 -->\n      <g transform=\"translate(28.476563 108.700937)rotate(-90)scale(0.1 -0.1)\">\n       <use xlink:href=\"#DejaVuSans-30\"/>\n      </g>\n     </g>\n    </g>\n    <g id=\"ytick_2\">\n     <g id=\"line2d_4\">\n      <g>\n       <use style=\"stroke:#000000;stroke-width:0.8;\" x=\"37.55625\" xlink:href=\"#mc206960c4d\" y=\"269.217656\"/>\n      </g>\n     </g>\n     <g id=\"text_5\">\n      <!-- 1 -->\n      <g transform=\"translate(28.476563 271.780937)rotate(-90)scale(0.1 -0.1)\">\n       <use xlink:href=\"#DejaVuSans-31\"/>\n      </g>\n     </g>\n    </g>\n    <g id=\"text_6\">\n     <!-- Actual label -->\n     <g transform=\"translate(14.798438 217.02375)rotate(-90)scale(0.1 -0.1)\">\n      <defs>\n       <path d=\"M 2188 4044 \nL 1331 1722 \nL 3047 1722 \nL 2188 4044 \nz\nM 1831 4666 \nL 2547 4666 \nL 4325 0 \nL 3669 0 \nL 3244 1197 \nL 1141 1197 \nL 716 0 \nL 50 0 \nL 1831 4666 \nz\n\" id=\"DejaVuSans-41\" transform=\"scale(0.015625)\"/>\n       <path d=\"M 544 1381 \nL 544 3500 \nL 1119 3500 \nL 1119 1403 \nQ 1119 906 1312 657 \nQ 1506 409 1894 409 \nQ 2359 409 2629 706 \nQ 2900 1003 2900 1516 \nL 2900 3500 \nL 3475 3500 \nL 3475 0 \nL 2900 0 \nL 2900 538 \nQ 2691 219 2414 64 \nQ 2138 -91 1772 -91 \nQ 1169 -91 856 284 \nQ 544 659 544 1381 \nz\nM 1991 3584 \nL 1991 3584 \nz\n\" id=\"DejaVuSans-75\" transform=\"scale(0.015625)\"/>\n      </defs>\n      <use xlink:href=\"#DejaVuSans-41\"/>\n      <use x=\"66.658203\" xlink:href=\"#DejaVuSans-63\"/>\n      <use x=\"121.638672\" xlink:href=\"#DejaVuSans-74\"/>\n      <use x=\"160.847656\" xlink:href=\"#DejaVuSans-75\"/>\n      <use x=\"224.226562\" xlink:href=\"#DejaVuSans-61\"/>\n      <use x=\"285.505859\" xlink:href=\"#DejaVuSans-6c\"/>\n      <use x=\"313.289062\" xlink:href=\"#DejaVuSans-20\"/>\n      <use x=\"345.076172\" xlink:href=\"#DejaVuSans-6c\"/>\n      <use x=\"372.859375\" xlink:href=\"#DejaVuSans-61\"/>\n      <use x=\"434.138672\" xlink:href=\"#DejaVuSans-62\"/>\n      <use x=\"497.615234\" xlink:href=\"#DejaVuSans-65\"/>\n      <use x=\"559.138672\" xlink:href=\"#DejaVuSans-6c\"/>\n     </g>\n    </g>\n   </g>\n   <g id=\"text_7\">\n    <!-- 1472 -->\n    <g style=\"fill:#262626;\" transform=\"translate(91.79125 108.897031)scale(0.1 -0.1)\">\n     <defs>\n      <path d=\"M 2419 4116 \nL 825 1625 \nL 2419 1625 \nL 2419 4116 \nz\nM 2253 4666 \nL 3047 4666 \nL 3047 1625 \nL 3713 1625 \nL 3713 1100 \nL 3047 1100 \nL 3047 0 \nL 2419 0 \nL 2419 1100 \nL 313 1100 \nL 313 1709 \nL 2253 4666 \nz\n\" id=\"DejaVuSans-34\" transform=\"scale(0.015625)\"/>\n      <path d=\"M 525 4666 \nL 3525 4666 \nL 3525 4397 \nL 1831 0 \nL 1172 0 \nL 2766 4134 \nL 525 4134 \nL 525 4666 \nz\n\" id=\"DejaVuSans-37\" transform=\"scale(0.015625)\"/>\n      <path d=\"M 1228 531 \nL 3431 531 \nL 3431 0 \nL 469 0 \nL 469 531 \nQ 828 903 1448 1529 \nQ 2069 2156 2228 2338 \nQ 2531 2678 2651 2914 \nQ 2772 3150 2772 3378 \nQ 2772 3750 2511 3984 \nQ 2250 4219 1831 4219 \nQ 1534 4219 1204 4116 \nQ 875 4013 500 3803 \nL 500 4441 \nQ 881 4594 1212 4672 \nQ 1544 4750 1819 4750 \nQ 2544 4750 2975 4387 \nQ 3406 4025 3406 3419 \nQ 3406 3131 3298 2873 \nQ 3191 2616 2906 2266 \nQ 2828 2175 2409 1742 \nQ 1991 1309 1228 531 \nz\n\" id=\"DejaVuSans-32\" transform=\"scale(0.015625)\"/>\n     </defs>\n     <use xlink:href=\"#DejaVuSans-31\"/>\n     <use x=\"63.623047\" xlink:href=\"#DejaVuSans-34\"/>\n     <use x=\"127.246094\" xlink:href=\"#DejaVuSans-37\"/>\n     <use x=\"190.869141\" xlink:href=\"#DejaVuSans-32\"/>\n    </g>\n   </g>\n   <g id=\"text_8\">\n    <!-- 0 -->\n    <g style=\"fill:#ffffff;\" transform=\"translate(235.255 108.897031)scale(0.1 -0.1)\">\n     <use xlink:href=\"#DejaVuSans-30\"/>\n    </g>\n   </g>\n   <g id=\"text_9\">\n    <!-- 76 -->\n    <g style=\"fill:#ffffff;\" transform=\"translate(98.15375 271.977031)scale(0.1 -0.1)\">\n     <defs>\n      <path d=\"M 2113 2584 \nQ 1688 2584 1439 2293 \nQ 1191 2003 1191 1497 \nQ 1191 994 1439 701 \nQ 1688 409 2113 409 \nQ 2538 409 2786 701 \nQ 3034 994 3034 1497 \nQ 3034 2003 2786 2293 \nQ 2538 2584 2113 2584 \nz\nM 3366 4563 \nL 3366 3988 \nQ 3128 4100 2886 4159 \nQ 2644 4219 2406 4219 \nQ 1781 4219 1451 3797 \nQ 1122 3375 1075 2522 \nQ 1259 2794 1537 2939 \nQ 1816 3084 2150 3084 \nQ 2853 3084 3261 2657 \nQ 3669 2231 3669 1497 \nQ 3669 778 3244 343 \nQ 2819 -91 2113 -91 \nQ 1303 -91 875 529 \nQ 447 1150 447 2328 \nQ 447 3434 972 4092 \nQ 1497 4750 2381 4750 \nQ 2619 4750 2861 4703 \nQ 3103 4656 3366 4563 \nz\n\" id=\"DejaVuSans-36\" transform=\"scale(0.015625)\"/>\n     </defs>\n     <use xlink:href=\"#DejaVuSans-37\"/>\n     <use x=\"63.623047\" xlink:href=\"#DejaVuSans-36\"/>\n    </g>\n   </g>\n   <g id=\"text_10\">\n    <!-- 1 -->\n    <g style=\"fill:#ffffff;\" transform=\"translate(235.255 271.977031)scale(0.1 -0.1)\">\n     <use xlink:href=\"#DejaVuSans-31\"/>\n    </g>\n   </g>\n   <g id=\"text_11\">\n    <!-- Accuracy Score: 0.95 -->\n    <g transform=\"translate(92.237578 18.597656)scale(0.15 -0.15)\">\n     <defs>\n      <path d=\"M 2059 -325 \nQ 1816 -950 1584 -1140 \nQ 1353 -1331 966 -1331 \nL 506 -1331 \nL 506 -850 \nL 844 -850 \nQ 1081 -850 1212 -737 \nQ 1344 -625 1503 -206 \nL 1606 56 \nL 191 3500 \nL 800 3500 \nL 1894 763 \nL 2988 3500 \nL 3597 3500 \nL 2059 -325 \nz\n\" id=\"DejaVuSans-79\" transform=\"scale(0.015625)\"/>\n      <path d=\"M 3425 4513 \nL 3425 3897 \nQ 3066 4069 2747 4153 \nQ 2428 4238 2131 4238 \nQ 1616 4238 1336 4038 \nQ 1056 3838 1056 3469 \nQ 1056 3159 1242 3001 \nQ 1428 2844 1947 2747 \nL 2328 2669 \nQ 3034 2534 3370 2195 \nQ 3706 1856 3706 1288 \nQ 3706 609 3251 259 \nQ 2797 -91 1919 -91 \nQ 1588 -91 1214 -16 \nQ 841 59 441 206 \nL 441 856 \nQ 825 641 1194 531 \nQ 1563 422 1919 422 \nQ 2459 422 2753 634 \nQ 3047 847 3047 1241 \nQ 3047 1584 2836 1778 \nQ 2625 1972 2144 2069 \nL 1759 2144 \nQ 1053 2284 737 2584 \nQ 422 2884 422 3419 \nQ 422 4038 858 4394 \nQ 1294 4750 2059 4750 \nQ 2388 4750 2728 4690 \nQ 3069 4631 3425 4513 \nz\n\" id=\"DejaVuSans-53\" transform=\"scale(0.015625)\"/>\n      <path d=\"M 1959 3097 \nQ 1497 3097 1228 2736 \nQ 959 2375 959 1747 \nQ 959 1119 1226 758 \nQ 1494 397 1959 397 \nQ 2419 397 2687 759 \nQ 2956 1122 2956 1747 \nQ 2956 2369 2687 2733 \nQ 2419 3097 1959 3097 \nz\nM 1959 3584 \nQ 2709 3584 3137 3096 \nQ 3566 2609 3566 1747 \nQ 3566 888 3137 398 \nQ 2709 -91 1959 -91 \nQ 1206 -91 779 398 \nQ 353 888 353 1747 \nQ 353 2609 779 3096 \nQ 1206 3584 1959 3584 \nz\n\" id=\"DejaVuSans-6f\" transform=\"scale(0.015625)\"/>\n      <path d=\"M 750 794 \nL 1409 794 \nL 1409 0 \nL 750 0 \nL 750 794 \nz\nM 750 3309 \nL 1409 3309 \nL 1409 2516 \nL 750 2516 \nL 750 3309 \nz\n\" id=\"DejaVuSans-3a\" transform=\"scale(0.015625)\"/>\n      <path d=\"M 684 794 \nL 1344 794 \nL 1344 0 \nL 684 0 \nL 684 794 \nz\n\" id=\"DejaVuSans-2e\" transform=\"scale(0.015625)\"/>\n      <path d=\"M 703 97 \nL 703 672 \nQ 941 559 1184 500 \nQ 1428 441 1663 441 \nQ 2288 441 2617 861 \nQ 2947 1281 2994 2138 \nQ 2813 1869 2534 1725 \nQ 2256 1581 1919 1581 \nQ 1219 1581 811 2004 \nQ 403 2428 403 3163 \nQ 403 3881 828 4315 \nQ 1253 4750 1959 4750 \nQ 2769 4750 3195 4129 \nQ 3622 3509 3622 2328 \nQ 3622 1225 3098 567 \nQ 2575 -91 1691 -91 \nQ 1453 -91 1209 -44 \nQ 966 3 703 97 \nz\nM 1959 2075 \nQ 2384 2075 2632 2365 \nQ 2881 2656 2881 3163 \nQ 2881 3666 2632 3958 \nQ 2384 4250 1959 4250 \nQ 1534 4250 1286 3958 \nQ 1038 3666 1038 3163 \nQ 1038 2656 1286 2365 \nQ 1534 2075 1959 2075 \nz\n\" id=\"DejaVuSans-39\" transform=\"scale(0.015625)\"/>\n      <path d=\"M 691 4666 \nL 3169 4666 \nL 3169 4134 \nL 1269 4134 \nL 1269 2991 \nQ 1406 3038 1543 3061 \nQ 1681 3084 1819 3084 \nQ 2600 3084 3056 2656 \nQ 3513 2228 3513 1497 \nQ 3513 744 3044 326 \nQ 2575 -91 1722 -91 \nQ 1428 -91 1123 -41 \nQ 819 9 494 109 \nL 494 744 \nQ 775 591 1075 516 \nQ 1375 441 1709 441 \nQ 2250 441 2565 725 \nQ 2881 1009 2881 1497 \nQ 2881 1984 2565 2268 \nQ 2250 2553 1709 2553 \nQ 1456 2553 1204 2497 \nQ 953 2441 691 2322 \nL 691 4666 \nz\n\" id=\"DejaVuSans-35\" transform=\"scale(0.015625)\"/>\n     </defs>\n     <use xlink:href=\"#DejaVuSans-41\"/>\n     <use x=\"66.658203\" xlink:href=\"#DejaVuSans-63\"/>\n     <use x=\"121.638672\" xlink:href=\"#DejaVuSans-63\"/>\n     <use x=\"176.619141\" xlink:href=\"#DejaVuSans-75\"/>\n     <use x=\"239.998047\" xlink:href=\"#DejaVuSans-72\"/>\n     <use x=\"281.111328\" xlink:href=\"#DejaVuSans-61\"/>\n     <use x=\"342.390625\" xlink:href=\"#DejaVuSans-63\"/>\n     <use x=\"397.371094\" xlink:href=\"#DejaVuSans-79\"/>\n     <use x=\"456.550781\" xlink:href=\"#DejaVuSans-20\"/>\n     <use x=\"488.337891\" xlink:href=\"#DejaVuSans-53\"/>\n     <use x=\"551.814453\" xlink:href=\"#DejaVuSans-63\"/>\n     <use x=\"606.794922\" xlink:href=\"#DejaVuSans-6f\"/>\n     <use x=\"667.976562\" xlink:href=\"#DejaVuSans-72\"/>\n     <use x=\"706.839844\" xlink:href=\"#DejaVuSans-65\"/>\n     <use x=\"768.363281\" xlink:href=\"#DejaVuSans-3a\"/>\n     <use x=\"802.054688\" xlink:href=\"#DejaVuSans-20\"/>\n     <use x=\"833.841797\" xlink:href=\"#DejaVuSans-30\"/>\n     <use x=\"897.464844\" xlink:href=\"#DejaVuSans-2e\"/>\n     <use x=\"929.251953\" xlink:href=\"#DejaVuSans-39\"/>\n     <use x=\"992.875\" xlink:href=\"#DejaVuSans-35\"/>\n    </g>\n   </g>\n  </g>\n  <g id=\"axes_2\">\n   <g id=\"patch_3\">\n    <path d=\"M 322.13625 350.757656 \nL 338.44425 350.757656 \nL 338.44425 24.597656 \nL 322.13625 24.597656 \nz\n\" style=\"fill:#ffffff;\"/>\n   </g>\n   <g id=\"patch_4\">\n    <path clip-path=\"url(#p3d133f5bb8)\" d=\"M 322.13625 350.757656 \nL 322.13625 349.483594 \nL 322.13625 25.871719 \nL 322.13625 24.597656 \nL 338.44425 24.597656 \nL 338.44425 25.871719 \nL 338.44425 349.483594 \nL 338.44425 350.757656 \nL 338.44425 350.757656 \nz\n\" style=\"fill:#ffffff;stroke:#ffffff;stroke-linejoin:miter;stroke-width:0.01;\"/>\n   </g>\n   <image height=\"326\" id=\"image90a5b2e8cf\" transform=\"scale(1 -1)translate(0 -326)\" width=\"16\" x=\"322\" xlink:href=\"data:image/png;base64,\niVBORw0KGgoAAAANSUhEUgAAABAAAAFGCAYAAABjUx8/AAABr0lEQVR4nO2cUY7DMAgFceq9xN7/nu0hBmleEPkPgvGALbnp+fz9fws895C3q+qew0LgAA96u6ruKbmE+2CIsAQOkZeAIeoMAjxYiLyd9VVo6EZ/pAWIxGIkiKRD1EvAGQScDwIg6iLpA8XfWHasZzDAGaxIvkgREGEAHWLC3kgz0FVOEMk+H+ASIkyUN5aA03qCieyJEAlmMMFEHeKE8wHPYEA3wgA6gxHdiG6ZpoiEAwwY6zQAFUlfxoWYwYAGOO8faSvSBAb3KZZCA0S7FxogfnWINMCKVPfAEvyNpeOkajNoyEA3EXaTvwodd660BBqg4a7NFikAIlZZh7gMOhjA3bUBIsxgRDfCIgJMXJEmMMAmBnQjb6b3Q6wAiCxARzfCADQHP4MZEO07V70EnkHpEN/PIMJEDPH1P2zzGdQDPwIZ0Y00AP2SxofYMFDez8Bexgnd6ENcEwNM7GDgN9OKhBnw3RmW0LE32hBpLyQw0E3ckRawjGvijLGur8KKNAPiOR83gwAGK1LdeqgHNsSAsa43U4RIfjfKKgdAxH8uNKAbdQ8CIOoe+MuIIf4AUq0uS+PnmPQAAAAASUVORK5CYII=\" y=\"-24\"/>\n   <g id=\"matplotlib.axis_3\"/>\n   <g id=\"matplotlib.axis_4\">\n    <g id=\"ytick_3\">\n     <g id=\"line2d_5\">\n      <defs>\n       <path d=\"M 0 0 \nL 3.5 0 \n\" id=\"mfcec09abaf\" style=\"stroke:#000000;stroke-width:0.8;\"/>\n      </defs>\n      <g>\n       <use style=\"stroke:#000000;stroke-width:0.8;\" x=\"338.44425\" xlink:href=\"#mfcec09abaf\" y=\"350.757656\"/>\n      </g>\n     </g>\n     <g id=\"text_12\">\n      <!-- 0 -->\n      <g transform=\"translate(345.44425 354.556875)scale(0.1 -0.1)\">\n       <use xlink:href=\"#DejaVuSans-30\"/>\n      </g>\n     </g>\n    </g>\n    <g id=\"ytick_4\">\n     <g id=\"line2d_6\">\n      <g>\n       <use style=\"stroke:#000000;stroke-width:0.8;\" x=\"338.44425\" xlink:href=\"#mfcec09abaf\" y=\"306.442439\"/>\n      </g>\n     </g>\n     <g id=\"text_13\">\n      <!-- 200 -->\n      <g transform=\"translate(345.44425 310.241658)scale(0.1 -0.1)\">\n       <use xlink:href=\"#DejaVuSans-32\"/>\n       <use x=\"63.623047\" xlink:href=\"#DejaVuSans-30\"/>\n       <use x=\"127.246094\" xlink:href=\"#DejaVuSans-30\"/>\n      </g>\n     </g>\n    </g>\n    <g id=\"ytick_5\">\n     <g id=\"line2d_7\">\n      <g>\n       <use style=\"stroke:#000000;stroke-width:0.8;\" x=\"338.44425\" xlink:href=\"#mfcec09abaf\" y=\"262.127221\"/>\n      </g>\n     </g>\n     <g id=\"text_14\">\n      <!-- 400 -->\n      <g transform=\"translate(345.44425 265.92644)scale(0.1 -0.1)\">\n       <use xlink:href=\"#DejaVuSans-34\"/>\n       <use x=\"63.623047\" xlink:href=\"#DejaVuSans-30\"/>\n       <use x=\"127.246094\" xlink:href=\"#DejaVuSans-30\"/>\n      </g>\n     </g>\n    </g>\n    <g id=\"ytick_6\">\n     <g id=\"line2d_8\">\n      <g>\n       <use style=\"stroke:#000000;stroke-width:0.8;\" x=\"338.44425\" xlink:href=\"#mfcec09abaf\" y=\"217.812004\"/>\n      </g>\n     </g>\n     <g id=\"text_15\">\n      <!-- 600 -->\n      <g transform=\"translate(345.44425 221.611223)scale(0.1 -0.1)\">\n       <use xlink:href=\"#DejaVuSans-36\"/>\n       <use x=\"63.623047\" xlink:href=\"#DejaVuSans-30\"/>\n       <use x=\"127.246094\" xlink:href=\"#DejaVuSans-30\"/>\n      </g>\n     </g>\n    </g>\n    <g id=\"ytick_7\">\n     <g id=\"line2d_9\">\n      <g>\n       <use style=\"stroke:#000000;stroke-width:0.8;\" x=\"338.44425\" xlink:href=\"#mfcec09abaf\" y=\"173.496787\"/>\n      </g>\n     </g>\n     <g id=\"text_16\">\n      <!-- 800 -->\n      <g transform=\"translate(345.44425 177.296005)scale(0.1 -0.1)\">\n       <defs>\n        <path d=\"M 2034 2216 \nQ 1584 2216 1326 1975 \nQ 1069 1734 1069 1313 \nQ 1069 891 1326 650 \nQ 1584 409 2034 409 \nQ 2484 409 2743 651 \nQ 3003 894 3003 1313 \nQ 3003 1734 2745 1975 \nQ 2488 2216 2034 2216 \nz\nM 1403 2484 \nQ 997 2584 770 2862 \nQ 544 3141 544 3541 \nQ 544 4100 942 4425 \nQ 1341 4750 2034 4750 \nQ 2731 4750 3128 4425 \nQ 3525 4100 3525 3541 \nQ 3525 3141 3298 2862 \nQ 3072 2584 2669 2484 \nQ 3125 2378 3379 2068 \nQ 3634 1759 3634 1313 \nQ 3634 634 3220 271 \nQ 2806 -91 2034 -91 \nQ 1263 -91 848 271 \nQ 434 634 434 1313 \nQ 434 1759 690 2068 \nQ 947 2378 1403 2484 \nz\nM 1172 3481 \nQ 1172 3119 1398 2916 \nQ 1625 2713 2034 2713 \nQ 2441 2713 2670 2916 \nQ 2900 3119 2900 3481 \nQ 2900 3844 2670 4047 \nQ 2441 4250 2034 4250 \nQ 1625 4250 1398 4047 \nQ 1172 3844 1172 3481 \nz\n\" id=\"DejaVuSans-38\" transform=\"scale(0.015625)\"/>\n       </defs>\n       <use xlink:href=\"#DejaVuSans-38\"/>\n       <use x=\"63.623047\" xlink:href=\"#DejaVuSans-30\"/>\n       <use x=\"127.246094\" xlink:href=\"#DejaVuSans-30\"/>\n      </g>\n     </g>\n    </g>\n    <g id=\"ytick_8\">\n     <g id=\"line2d_10\">\n      <g>\n       <use style=\"stroke:#000000;stroke-width:0.8;\" x=\"338.44425\" xlink:href=\"#mfcec09abaf\" y=\"129.181569\"/>\n      </g>\n     </g>\n     <g id=\"text_17\">\n      <!-- 1000 -->\n      <g transform=\"translate(345.44425 132.980788)scale(0.1 -0.1)\">\n       <use xlink:href=\"#DejaVuSans-31\"/>\n       <use x=\"63.623047\" xlink:href=\"#DejaVuSans-30\"/>\n       <use x=\"127.246094\" xlink:href=\"#DejaVuSans-30\"/>\n       <use x=\"190.869141\" xlink:href=\"#DejaVuSans-30\"/>\n      </g>\n     </g>\n    </g>\n    <g id=\"ytick_9\">\n     <g id=\"line2d_11\">\n      <g>\n       <use style=\"stroke:#000000;stroke-width:0.8;\" x=\"338.44425\" xlink:href=\"#mfcec09abaf\" y=\"84.866352\"/>\n      </g>\n     </g>\n     <g id=\"text_18\">\n      <!-- 1200 -->\n      <g transform=\"translate(345.44425 88.665571)scale(0.1 -0.1)\">\n       <use xlink:href=\"#DejaVuSans-31\"/>\n       <use x=\"63.623047\" xlink:href=\"#DejaVuSans-32\"/>\n       <use x=\"127.246094\" xlink:href=\"#DejaVuSans-30\"/>\n       <use x=\"190.869141\" xlink:href=\"#DejaVuSans-30\"/>\n      </g>\n     </g>\n    </g>\n    <g id=\"ytick_10\">\n     <g id=\"line2d_12\">\n      <g>\n       <use style=\"stroke:#000000;stroke-width:0.8;\" x=\"338.44425\" xlink:href=\"#mfcec09abaf\" y=\"40.551135\"/>\n      </g>\n     </g>\n     <g id=\"text_19\">\n      <!-- 1400 -->\n      <g transform=\"translate(345.44425 44.350353)scale(0.1 -0.1)\">\n       <use xlink:href=\"#DejaVuSans-31\"/>\n       <use x=\"63.623047\" xlink:href=\"#DejaVuSans-34\"/>\n       <use x=\"127.246094\" xlink:href=\"#DejaVuSans-30\"/>\n       <use x=\"190.869141\" xlink:href=\"#DejaVuSans-30\"/>\n      </g>\n     </g>\n    </g>\n   </g>\n   <g id=\"LineCollection_1\"/>\n   <g id=\"patch_5\">\n    <path d=\"M 322.13625 350.757656 \nL 322.13625 349.483594 \nL 322.13625 25.871719 \nL 322.13625 24.597656 \nL 338.44425 24.597656 \nL 338.44425 25.871719 \nL 338.44425 349.483594 \nL 338.44425 350.757656 \nz\n\" style=\"fill:none;\"/>\n   </g>\n  </g>\n </g>\n <defs>\n  <clipPath id=\"p422f6545d1\">\n   <rect height=\"326.16\" width=\"267.84\" x=\"37.55625\" y=\"24.597656\"/>\n  </clipPath>\n  <clipPath id=\"p3d133f5bb8\">\n   <rect height=\"326.16\" width=\"16.308\" x=\"322.13625\" y=\"24.597656\"/>\n  </clipPath>\n </defs>\n</svg>\n",
            "image/png": "[encoded data removed]"
          },
          "metadata": {
            "needs_background": "light"
          }
        }
      ],
      "source": [
        "actual = test.select('stroke').rdd.flatMap(lambda x: x).collect()\n",
        "predicted = rdd_kq.collect()\n",
        "\n",
        "y_true = np.array(actual).astype(int)\n",
        "y_pred = np.array(predicted).astype(int)\n",
        "\n",
        "accuracy = acc(y_true, y_pred)\n",
        "# accuracy = accuracy_metric(actual, predicted)\n",
        "\n",
        "cm = generate_confusion_matrix(y_true, y_pred)\n",
        "\n",
        "# plot confusion matrix\n",
        "plt.figure(figsize=(6,6))\n",
        "sns.heatmap(cm, annot=True, fmt='.0f')\n",
        "plt.ylabel('Actual label')\n",
        "plt.xlabel('Predicted label')\n",
        "title = 'Accuracy Score: {0}'.format(round(accuracy,2))\n",
        "plt.title(title, size=15)"
      ]
    },
    {
      "cell_type": "markdown",
      "metadata": {
        "id": "Fkyi18AxJfCF"
      },
      "source": [
        "# Model evaluation"
      ]
    },
    {
      "cell_type": "code",
      "metadata": {
        "id": "GKzwDyjZI1ly"
      },
      "source": [
        "train, test = data.randomSplit([0.7, 0.3], seed = 2222)"
      ],
      "execution_count": 33,
      "outputs": []
    },
    {
      "cell_type": "code",
      "metadata": {
        "id": "yRUybUj5I1ly"
      },
      "source": [
        "def evaluate_algorithm(algorithm, label):\n",
        "    predicted = algorithm()\n",
        "    actual = test.select(label).rdd.flatMap(lambda x: x).collect()\n",
        "\n",
        "    y_true = np.array(actual).astype(int)\n",
        "    y_pred = np.array(predicted).astype(int)\n",
        "\n",
        "    accuracy = acc(y_true, y_pred)\n",
        "    # accuracy = accuracy_metric(actual, predicted)\n",
        "    \n",
        "    cm = generate_confusion_matrix(y_true, y_pred)\n",
        "\n",
        "    # plot confusion matrix\n",
        "    plt.figure(figsize=(6,6))\n",
        "    sns.heatmap(cm, annot=True, fmt='.0f')\n",
        "    plt.ylabel('Actual label')\n",
        "    plt.xlabel('Predicted label')\n",
        "    title = 'Accuracy Score: {0}'.format(round(accuracy,2))\n",
        "    plt.title(title, size=15)"
      ],
      "execution_count": 17,
      "outputs": []
    },
    {
      "cell_type": "code",
      "metadata": {
        "id": "68gOsQRuI1lz"
      },
      "source": [
        "def acc(y_true, y_pred):\n",
        "    correct = np.sum(y_true == y_pred)\n",
        "    return float(correct)/y_true.shape[0]\n"
      ],
      "execution_count": 226,
      "outputs": []
    },
    {
      "cell_type": "code",
      "metadata": {
        "id": "YwrUIrIfI1lz"
      },
      "source": [
        "def generate_confusion_matrix(y_true, y_pred):\n",
        "    N = np.unique(y_true).shape[0] # number of classes \n",
        "    cm = np.zeros((N, N))\n",
        "\n",
        "    for n in range(y_true.shape[0]):\n",
        "        cm[y_true[n], y_pred[n]] += 1\n",
        "    print(cm.astype(int))\n",
        "    return cm.astype(int)"
      ],
      "execution_count": 225,
      "outputs": []
    },
    {
      "cell_type": "code",
      "metadata": {
        "id": "MlNRozyVI1lz",
        "outputId": "70a2adaf-0fca-438d-c72b-ea8e9f903f40"
      },
      "source": [
        "evaluate_algorithm(native_bayes.fit, 'stroke')"
      ],
      "execution_count": null,
      "outputs": [
        {
          "output_type": "stream",
          "text": [
            "[[1301  144]\n",
            " [  37   26]]\n"
          ],
          "name": "stdout"
        },
        {
          "output_type": "display_data",
          "data": {
            "text/plain": [
              "<Figure size 432x432 with 2 Axes>"
            ],
            "image/svg+xml": "<?xml version=\"1.0\" encoding=\"utf-8\" standalone=\"no\"?>\n<!DOCTYPE svg PUBLIC \"-//W3C//DTD SVG 1.1//EN\"\n  \"http://www.w3.org/Graphics/SVG/1.1/DTD/svg11.dtd\">\n<svg height=\"388.313906pt\" version=\"1.1\" viewBox=\"0 0 378.09425 388.313906\" width=\"378.09425pt\" xmlns=\"http://www.w3.org/2000/svg\" xmlns:xlink=\"http://www.w3.org/1999/xlink\">\n <metadata>\n  <rdf:RDF xmlns:cc=\"http://creativecommons.org/ns#\" xmlns:dc=\"http://purl.org/dc/elements/1.1/\" xmlns:rdf=\"http://www.w3.org/1999/02/22-rdf-syntax-ns#\">\n   <cc:Work>\n    <dc:type rdf:resource=\"http://purl.org/dc/dcmitype/StillImage\"/>\n    <dc:date>2021-06-03T16:08:20.833950</dc:date>\n    <dc:format>image/svg+xml</dc:format>\n    <dc:creator>\n     <cc:Agent>\n      <dc:title>Matplotlib v3.4.2, https://matplotlib.org/</dc:title>\n     </cc:Agent>\n    </dc:creator>\n   </cc:Work>\n  </rdf:RDF>\n </metadata>\n <defs>\n  <style type=\"text/css\">*{stroke-linecap:butt;stroke-linejoin:round;}</style>\n </defs>\n <g id=\"figure_1\">\n  <g id=\"patch_1\">\n   <path d=\"M 0 388.313906 \nL 378.09425 388.313906 \nL 378.09425 0 \nL 0 0 \nz\n\" style=\"fill:none;\"/>\n  </g>\n  <g id=\"axes_1\">\n   <g id=\"patch_2\">\n    <path d=\"M 37.55625 350.757656 \nL 305.39625 350.757656 \nL 305.39625 24.597656 \nL 37.55625 24.597656 \nz\n\" style=\"fill:#ffffff;\"/>\n   </g>\n   <g id=\"QuadMesh_1\">\n    <path clip-path=\"url(#p29ae644ab9)\" d=\"M 37.55625 24.597656 \nL 171.47625 24.597656 \nL 171.47625 187.677656 \nL 37.55625 187.677656 \nL 37.55625 24.597656 \n\" style=\"fill:#faebdd;\"/>\n    <path clip-path=\"url(#p29ae644ab9)\" d=\"M 171.47625 24.597656 \nL 305.39625 24.597656 \nL 305.39625 187.677656 \nL 171.47625 187.677656 \nL 171.47625 24.597656 \n\" style=\"fill:#221331;\"/>\n    <path clip-path=\"url(#p29ae644ab9)\" d=\"M 37.55625 187.677656 \nL 171.47625 187.677656 \nL 171.47625 350.757656 \nL 37.55625 350.757656 \nL 37.55625 187.677656 \n\" style=\"fill:#05061b;\"/>\n    <path clip-path=\"url(#p29ae644ab9)\" d=\"M 171.47625 187.677656 \nL 305.39625 187.677656 \nL 305.39625 350.757656 \nL 171.47625 350.757656 \nL 171.47625 187.677656 \n\" style=\"fill:#03051a;\"/>\n   </g>\n   <g id=\"matplotlib.axis_1\">\n    <g id=\"xtick_1\">\n     <g id=\"line2d_1\">\n      <defs>\n       <path d=\"M 0 0 \nL 0 3.5 \n\" id=\"m5922196783\" style=\"stroke:#000000;stroke-width:0.8;\"/>\n      </defs>\n      <g>\n       <use style=\"stroke:#000000;stroke-width:0.8;\" x=\"104.51625\" xlink:href=\"#m5922196783\" y=\"350.757656\"/>\n      </g>\n     </g>\n     <g id=\"text_1\">\n      <!-- 0 -->\n      <g transform=\"translate(101.335 365.356094)scale(0.1 -0.1)\">\n       <defs>\n        <path d=\"M 2034 4250 \nQ 1547 4250 1301 3770 \nQ 1056 3291 1056 2328 \nQ 1056 1369 1301 889 \nQ 1547 409 2034 409 \nQ 2525 409 2770 889 \nQ 3016 1369 3016 2328 \nQ 3016 3291 2770 3770 \nQ 2525 4250 2034 4250 \nz\nM 2034 4750 \nQ 2819 4750 3233 4129 \nQ 3647 3509 3647 2328 \nQ 3647 1150 3233 529 \nQ 2819 -91 2034 -91 \nQ 1250 -91 836 529 \nQ 422 1150 422 2328 \nQ 422 3509 836 4129 \nQ 1250 4750 2034 4750 \nz\n\" id=\"DejaVuSans-30\" transform=\"scale(0.015625)\"/>\n       </defs>\n       <use xlink:href=\"#DejaVuSans-30\"/>\n      </g>\n     </g>\n    </g>\n    <g id=\"xtick_2\">\n     <g id=\"line2d_2\">\n      <g>\n       <use style=\"stroke:#000000;stroke-width:0.8;\" x=\"238.43625\" xlink:href=\"#m5922196783\" y=\"350.757656\"/>\n      </g>\n     </g>\n     <g id=\"text_2\">\n      <!-- 1 -->\n      <g transform=\"translate(235.255 365.356094)scale(0.1 -0.1)\">\n       <defs>\n        <path d=\"M 794 531 \nL 1825 531 \nL 1825 4091 \nL 703 3866 \nL 703 4441 \nL 1819 4666 \nL 2450 4666 \nL 2450 531 \nL 3481 531 \nL 3481 0 \nL 794 0 \nL 794 531 \nz\n\" id=\"DejaVuSans-31\" transform=\"scale(0.015625)\"/>\n       </defs>\n       <use xlink:href=\"#DejaVuSans-31\"/>\n      </g>\n     </g>\n    </g>\n    <g id=\"text_3\">\n     <!-- Predicted label -->\n     <g transform=\"translate(134.323906 379.034219)scale(0.1 -0.1)\">\n      <defs>\n       <path d=\"M 1259 4147 \nL 1259 2394 \nL 2053 2394 \nQ 2494 2394 2734 2622 \nQ 2975 2850 2975 3272 \nQ 2975 3691 2734 3919 \nQ 2494 4147 2053 4147 \nL 1259 4147 \nz\nM 628 4666 \nL 2053 4666 \nQ 2838 4666 3239 4311 \nQ 3641 3956 3641 3272 \nQ 3641 2581 3239 2228 \nQ 2838 1875 2053 1875 \nL 1259 1875 \nL 1259 0 \nL 628 0 \nL 628 4666 \nz\n\" id=\"DejaVuSans-50\" transform=\"scale(0.015625)\"/>\n       <path d=\"M 2631 2963 \nQ 2534 3019 2420 3045 \nQ 2306 3072 2169 3072 \nQ 1681 3072 1420 2755 \nQ 1159 2438 1159 1844 \nL 1159 0 \nL 581 0 \nL 581 3500 \nL 1159 3500 \nL 1159 2956 \nQ 1341 3275 1631 3429 \nQ 1922 3584 2338 3584 \nQ 2397 3584 2469 3576 \nQ 2541 3569 2628 3553 \nL 2631 2963 \nz\n\" id=\"DejaVuSans-72\" transform=\"scale(0.015625)\"/>\n       <path d=\"M 3597 1894 \nL 3597 1613 \nL 953 1613 \nQ 991 1019 1311 708 \nQ 1631 397 2203 397 \nQ 2534 397 2845 478 \nQ 3156 559 3463 722 \nL 3463 178 \nQ 3153 47 2828 -22 \nQ 2503 -91 2169 -91 \nQ 1331 -91 842 396 \nQ 353 884 353 1716 \nQ 353 2575 817 3079 \nQ 1281 3584 2069 3584 \nQ 2775 3584 3186 3129 \nQ 3597 2675 3597 1894 \nz\nM 3022 2063 \nQ 3016 2534 2758 2815 \nQ 2500 3097 2075 3097 \nQ 1594 3097 1305 2825 \nQ 1016 2553 972 2059 \nL 3022 2063 \nz\n\" id=\"DejaVuSans-65\" transform=\"scale(0.015625)\"/>\n       <path d=\"M 2906 2969 \nL 2906 4863 \nL 3481 4863 \nL 3481 0 \nL 2906 0 \nL 2906 525 \nQ 2725 213 2448 61 \nQ 2172 -91 1784 -91 \nQ 1150 -91 751 415 \nQ 353 922 353 1747 \nQ 353 2572 751 3078 \nQ 1150 3584 1784 3584 \nQ 2172 3584 2448 3432 \nQ 2725 3281 2906 2969 \nz\nM 947 1747 \nQ 947 1113 1208 752 \nQ 1469 391 1925 391 \nQ 2381 391 2643 752 \nQ 2906 1113 2906 1747 \nQ 2906 2381 2643 2742 \nQ 2381 3103 1925 3103 \nQ 1469 3103 1208 2742 \nQ 947 2381 947 1747 \nz\n\" id=\"DejaVuSans-64\" transform=\"scale(0.015625)\"/>\n       <path d=\"M 603 3500 \nL 1178 3500 \nL 1178 0 \nL 603 0 \nL 603 3500 \nz\nM 603 4863 \nL 1178 4863 \nL 1178 4134 \nL 603 4134 \nL 603 4863 \nz\n\" id=\"DejaVuSans-69\" transform=\"scale(0.015625)\"/>\n       <path d=\"M 3122 3366 \nL 3122 2828 \nQ 2878 2963 2633 3030 \nQ 2388 3097 2138 3097 \nQ 1578 3097 1268 2742 \nQ 959 2388 959 1747 \nQ 959 1106 1268 751 \nQ 1578 397 2138 397 \nQ 2388 397 2633 464 \nQ 2878 531 3122 666 \nL 3122 134 \nQ 2881 22 2623 -34 \nQ 2366 -91 2075 -91 \nQ 1284 -91 818 406 \nQ 353 903 353 1747 \nQ 353 2603 823 3093 \nQ 1294 3584 2113 3584 \nQ 2378 3584 2631 3529 \nQ 2884 3475 3122 3366 \nz\n\" id=\"DejaVuSans-63\" transform=\"scale(0.015625)\"/>\n       <path d=\"M 1172 4494 \nL 1172 3500 \nL 2356 3500 \nL 2356 3053 \nL 1172 3053 \nL 1172 1153 \nQ 1172 725 1289 603 \nQ 1406 481 1766 481 \nL 2356 481 \nL 2356 0 \nL 1766 0 \nQ 1100 0 847 248 \nQ 594 497 594 1153 \nL 594 3053 \nL 172 3053 \nL 172 3500 \nL 594 3500 \nL 594 4494 \nL 1172 4494 \nz\n\" id=\"DejaVuSans-74\" transform=\"scale(0.015625)\"/>\n       <path id=\"DejaVuSans-20\" transform=\"scale(0.015625)\"/>\n       <path d=\"M 603 4863 \nL 1178 4863 \nL 1178 0 \nL 603 0 \nL 603 4863 \nz\n\" id=\"DejaVuSans-6c\" transform=\"scale(0.015625)\"/>\n       <path d=\"M 2194 1759 \nQ 1497 1759 1228 1600 \nQ 959 1441 959 1056 \nQ 959 750 1161 570 \nQ 1363 391 1709 391 \nQ 2188 391 2477 730 \nQ 2766 1069 2766 1631 \nL 2766 1759 \nL 2194 1759 \nz\nM 3341 1997 \nL 3341 0 \nL 2766 0 \nL 2766 531 \nQ 2569 213 2275 61 \nQ 1981 -91 1556 -91 \nQ 1019 -91 701 211 \nQ 384 513 384 1019 \nQ 384 1609 779 1909 \nQ 1175 2209 1959 2209 \nL 2766 2209 \nL 2766 2266 \nQ 2766 2663 2505 2880 \nQ 2244 3097 1772 3097 \nQ 1472 3097 1187 3025 \nQ 903 2953 641 2809 \nL 641 3341 \nQ 956 3463 1253 3523 \nQ 1550 3584 1831 3584 \nQ 2591 3584 2966 3190 \nQ 3341 2797 3341 1997 \nz\n\" id=\"DejaVuSans-61\" transform=\"scale(0.015625)\"/>\n       <path d=\"M 3116 1747 \nQ 3116 2381 2855 2742 \nQ 2594 3103 2138 3103 \nQ 1681 3103 1420 2742 \nQ 1159 2381 1159 1747 \nQ 1159 1113 1420 752 \nQ 1681 391 2138 391 \nQ 2594 391 2855 752 \nQ 3116 1113 3116 1747 \nz\nM 1159 2969 \nQ 1341 3281 1617 3432 \nQ 1894 3584 2278 3584 \nQ 2916 3584 3314 3078 \nQ 3713 2572 3713 1747 \nQ 3713 922 3314 415 \nQ 2916 -91 2278 -91 \nQ 1894 -91 1617 61 \nQ 1341 213 1159 525 \nL 1159 0 \nL 581 0 \nL 581 4863 \nL 1159 4863 \nL 1159 2969 \nz\n\" id=\"DejaVuSans-62\" transform=\"scale(0.015625)\"/>\n      </defs>\n      <use xlink:href=\"#DejaVuSans-50\"/>\n      <use x=\"58.552734\" xlink:href=\"#DejaVuSans-72\"/>\n      <use x=\"97.416016\" xlink:href=\"#DejaVuSans-65\"/>\n      <use x=\"158.939453\" xlink:href=\"#DejaVuSans-64\"/>\n      <use x=\"222.416016\" xlink:href=\"#DejaVuSans-69\"/>\n      <use x=\"250.199219\" xlink:href=\"#DejaVuSans-63\"/>\n      <use x=\"305.179688\" xlink:href=\"#DejaVuSans-74\"/>\n      <use x=\"344.388672\" xlink:href=\"#DejaVuSans-65\"/>\n      <use x=\"405.912109\" xlink:href=\"#DejaVuSans-64\"/>\n      <use x=\"469.388672\" xlink:href=\"#DejaVuSans-20\"/>\n      <use x=\"501.175781\" xlink:href=\"#DejaVuSans-6c\"/>\n      <use x=\"528.958984\" xlink:href=\"#DejaVuSans-61\"/>\n      <use x=\"590.238281\" xlink:href=\"#DejaVuSans-62\"/>\n      <use x=\"653.714844\" xlink:href=\"#DejaVuSans-65\"/>\n      <use x=\"715.238281\" xlink:href=\"#DejaVuSans-6c\"/>\n     </g>\n    </g>\n   </g>\n   <g id=\"matplotlib.axis_2\">\n    <g id=\"ytick_1\">\n     <g id=\"line2d_3\">\n      <defs>\n       <path d=\"M 0 0 \nL -3.5 0 \n\" id=\"m1d2c318caa\" style=\"stroke:#000000;stroke-width:0.8;\"/>\n      </defs>\n      <g>\n       <use style=\"stroke:#000000;stroke-width:0.8;\" x=\"37.55625\" xlink:href=\"#m1d2c318caa\" y=\"106.137656\"/>\n      </g>\n     </g>\n     <g id=\"text_4\">\n      <!-- 0 -->\n      <g transform=\"translate(28.476563 108.700937)rotate(-90)scale(0.1 -0.1)\">\n       <use xlink:href=\"#DejaVuSans-30\"/>\n      </g>\n     </g>\n    </g>\n    <g id=\"ytick_2\">\n     <g id=\"line2d_4\">\n      <g>\n       <use style=\"stroke:#000000;stroke-width:0.8;\" x=\"37.55625\" xlink:href=\"#m1d2c318caa\" y=\"269.217656\"/>\n      </g>\n     </g>\n     <g id=\"text_5\">\n      <!-- 1 -->\n      <g transform=\"translate(28.476563 271.780937)rotate(-90)scale(0.1 -0.1)\">\n       <use xlink:href=\"#DejaVuSans-31\"/>\n      </g>\n     </g>\n    </g>\n    <g id=\"text_6\">\n     <!-- Actual label -->\n     <g transform=\"translate(14.798438 217.02375)rotate(-90)scale(0.1 -0.1)\">\n      <defs>\n       <path d=\"M 2188 4044 \nL 1331 1722 \nL 3047 1722 \nL 2188 4044 \nz\nM 1831 4666 \nL 2547 4666 \nL 4325 0 \nL 3669 0 \nL 3244 1197 \nL 1141 1197 \nL 716 0 \nL 50 0 \nL 1831 4666 \nz\n\" id=\"DejaVuSans-41\" transform=\"scale(0.015625)\"/>\n       <path d=\"M 544 1381 \nL 544 3500 \nL 1119 3500 \nL 1119 1403 \nQ 1119 906 1312 657 \nQ 1506 409 1894 409 \nQ 2359 409 2629 706 \nQ 2900 1003 2900 1516 \nL 2900 3500 \nL 3475 3500 \nL 3475 0 \nL 2900 0 \nL 2900 538 \nQ 2691 219 2414 64 \nQ 2138 -91 1772 -91 \nQ 1169 -91 856 284 \nQ 544 659 544 1381 \nz\nM 1991 3584 \nL 1991 3584 \nz\n\" id=\"DejaVuSans-75\" transform=\"scale(0.015625)\"/>\n      </defs>\n      <use xlink:href=\"#DejaVuSans-41\"/>\n      <use x=\"66.658203\" xlink:href=\"#DejaVuSans-63\"/>\n      <use x=\"121.638672\" xlink:href=\"#DejaVuSans-74\"/>\n      <use x=\"160.847656\" xlink:href=\"#DejaVuSans-75\"/>\n      <use x=\"224.226562\" xlink:href=\"#DejaVuSans-61\"/>\n      <use x=\"285.505859\" xlink:href=\"#DejaVuSans-6c\"/>\n      <use x=\"313.289062\" xlink:href=\"#DejaVuSans-20\"/>\n      <use x=\"345.076172\" xlink:href=\"#DejaVuSans-6c\"/>\n      <use x=\"372.859375\" xlink:href=\"#DejaVuSans-61\"/>\n      <use x=\"434.138672\" xlink:href=\"#DejaVuSans-62\"/>\n      <use x=\"497.615234\" xlink:href=\"#DejaVuSans-65\"/>\n      <use x=\"559.138672\" xlink:href=\"#DejaVuSans-6c\"/>\n     </g>\n    </g>\n   </g>\n   <g id=\"text_7\">\n    <!-- 1301 -->\n    <g style=\"fill:#262626;\" transform=\"translate(91.79125 108.897031)scale(0.1 -0.1)\">\n     <defs>\n      <path d=\"M 2597 2516 \nQ 3050 2419 3304 2112 \nQ 3559 1806 3559 1356 \nQ 3559 666 3084 287 \nQ 2609 -91 1734 -91 \nQ 1441 -91 1130 -33 \nQ 819 25 488 141 \nL 488 750 \nQ 750 597 1062 519 \nQ 1375 441 1716 441 \nQ 2309 441 2620 675 \nQ 2931 909 2931 1356 \nQ 2931 1769 2642 2001 \nQ 2353 2234 1838 2234 \nL 1294 2234 \nL 1294 2753 \nL 1863 2753 \nQ 2328 2753 2575 2939 \nQ 2822 3125 2822 3475 \nQ 2822 3834 2567 4026 \nQ 2313 4219 1838 4219 \nQ 1578 4219 1281 4162 \nQ 984 4106 628 3988 \nL 628 4550 \nQ 988 4650 1302 4700 \nQ 1616 4750 1894 4750 \nQ 2613 4750 3031 4423 \nQ 3450 4097 3450 3541 \nQ 3450 3153 3228 2886 \nQ 3006 2619 2597 2516 \nz\n\" id=\"DejaVuSans-33\" transform=\"scale(0.015625)\"/>\n     </defs>\n     <use xlink:href=\"#DejaVuSans-31\"/>\n     <use x=\"63.623047\" xlink:href=\"#DejaVuSans-33\"/>\n     <use x=\"127.246094\" xlink:href=\"#DejaVuSans-30\"/>\n     <use x=\"190.869141\" xlink:href=\"#DejaVuSans-31\"/>\n    </g>\n   </g>\n   <g id=\"text_8\">\n    <!-- 144 -->\n    <g style=\"fill:#ffffff;\" transform=\"translate(228.8925 108.897031)scale(0.1 -0.1)\">\n     <defs>\n      <path d=\"M 2419 4116 \nL 825 1625 \nL 2419 1625 \nL 2419 4116 \nz\nM 2253 4666 \nL 3047 4666 \nL 3047 1625 \nL 3713 1625 \nL 3713 1100 \nL 3047 1100 \nL 3047 0 \nL 2419 0 \nL 2419 1100 \nL 313 1100 \nL 313 1709 \nL 2253 4666 \nz\n\" id=\"DejaVuSans-34\" transform=\"scale(0.015625)\"/>\n     </defs>\n     <use xlink:href=\"#DejaVuSans-31\"/>\n     <use x=\"63.623047\" xlink:href=\"#DejaVuSans-34\"/>\n     <use x=\"127.246094\" xlink:href=\"#DejaVuSans-34\"/>\n    </g>\n   </g>\n   <g id=\"text_9\">\n    <!-- 37 -->\n    <g style=\"fill:#ffffff;\" transform=\"translate(98.15375 271.977031)scale(0.1 -0.1)\">\n     <defs>\n      <path d=\"M 525 4666 \nL 3525 4666 \nL 3525 4397 \nL 1831 0 \nL 1172 0 \nL 2766 4134 \nL 525 4134 \nL 525 4666 \nz\n\" id=\"DejaVuSans-37\" transform=\"scale(0.015625)\"/>\n     </defs>\n     <use xlink:href=\"#DejaVuSans-33\"/>\n     <use x=\"63.623047\" xlink:href=\"#DejaVuSans-37\"/>\n    </g>\n   </g>\n   <g id=\"text_10\">\n    <!-- 26 -->\n    <g style=\"fill:#ffffff;\" transform=\"translate(232.07375 271.977031)scale(0.1 -0.1)\">\n     <defs>\n      <path d=\"M 1228 531 \nL 3431 531 \nL 3431 0 \nL 469 0 \nL 469 531 \nQ 828 903 1448 1529 \nQ 2069 2156 2228 2338 \nQ 2531 2678 2651 2914 \nQ 2772 3150 2772 3378 \nQ 2772 3750 2511 3984 \nQ 2250 4219 1831 4219 \nQ 1534 4219 1204 4116 \nQ 875 4013 500 3803 \nL 500 4441 \nQ 881 4594 1212 4672 \nQ 1544 4750 1819 4750 \nQ 2544 4750 2975 4387 \nQ 3406 4025 3406 3419 \nQ 3406 3131 3298 2873 \nQ 3191 2616 2906 2266 \nQ 2828 2175 2409 1742 \nQ 1991 1309 1228 531 \nz\n\" id=\"DejaVuSans-32\" transform=\"scale(0.015625)\"/>\n      <path d=\"M 2113 2584 \nQ 1688 2584 1439 2293 \nQ 1191 2003 1191 1497 \nQ 1191 994 1439 701 \nQ 1688 409 2113 409 \nQ 2538 409 2786 701 \nQ 3034 994 3034 1497 \nQ 3034 2003 2786 2293 \nQ 2538 2584 2113 2584 \nz\nM 3366 4563 \nL 3366 3988 \nQ 3128 4100 2886 4159 \nQ 2644 4219 2406 4219 \nQ 1781 4219 1451 3797 \nQ 1122 3375 1075 2522 \nQ 1259 2794 1537 2939 \nQ 1816 3084 2150 3084 \nQ 2853 3084 3261 2657 \nQ 3669 2231 3669 1497 \nQ 3669 778 3244 343 \nQ 2819 -91 2113 -91 \nQ 1303 -91 875 529 \nQ 447 1150 447 2328 \nQ 447 3434 972 4092 \nQ 1497 4750 2381 4750 \nQ 2619 4750 2861 4703 \nQ 3103 4656 3366 4563 \nz\n\" id=\"DejaVuSans-36\" transform=\"scale(0.015625)\"/>\n     </defs>\n     <use xlink:href=\"#DejaVuSans-32\"/>\n     <use x=\"63.623047\" xlink:href=\"#DejaVuSans-36\"/>\n    </g>\n   </g>\n   <g id=\"text_11\">\n    <!-- Accuracy Score: 0.88 -->\n    <g transform=\"translate(92.237578 18.597656)scale(0.15 -0.15)\">\n     <defs>\n      <path d=\"M 2059 -325 \nQ 1816 -950 1584 -1140 \nQ 1353 -1331 966 -1331 \nL 506 -1331 \nL 506 -850 \nL 844 -850 \nQ 1081 -850 1212 -737 \nQ 1344 -625 1503 -206 \nL 1606 56 \nL 191 3500 \nL 800 3500 \nL 1894 763 \nL 2988 3500 \nL 3597 3500 \nL 2059 -325 \nz\n\" id=\"DejaVuSans-79\" transform=\"scale(0.015625)\"/>\n      <path d=\"M 3425 4513 \nL 3425 3897 \nQ 3066 4069 2747 4153 \nQ 2428 4238 2131 4238 \nQ 1616 4238 1336 4038 \nQ 1056 3838 1056 3469 \nQ 1056 3159 1242 3001 \nQ 1428 2844 1947 2747 \nL 2328 2669 \nQ 3034 2534 3370 2195 \nQ 3706 1856 3706 1288 \nQ 3706 609 3251 259 \nQ 2797 -91 1919 -91 \nQ 1588 -91 1214 -16 \nQ 841 59 441 206 \nL 441 856 \nQ 825 641 1194 531 \nQ 1563 422 1919 422 \nQ 2459 422 2753 634 \nQ 3047 847 3047 1241 \nQ 3047 1584 2836 1778 \nQ 2625 1972 2144 2069 \nL 1759 2144 \nQ 1053 2284 737 2584 \nQ 422 2884 422 3419 \nQ 422 4038 858 4394 \nQ 1294 4750 2059 4750 \nQ 2388 4750 2728 4690 \nQ 3069 4631 3425 4513 \nz\n\" id=\"DejaVuSans-53\" transform=\"scale(0.015625)\"/>\n      <path d=\"M 1959 3097 \nQ 1497 3097 1228 2736 \nQ 959 2375 959 1747 \nQ 959 1119 1226 758 \nQ 1494 397 1959 397 \nQ 2419 397 2687 759 \nQ 2956 1122 2956 1747 \nQ 2956 2369 2687 2733 \nQ 2419 3097 1959 3097 \nz\nM 1959 3584 \nQ 2709 3584 3137 3096 \nQ 3566 2609 3566 1747 \nQ 3566 888 3137 398 \nQ 2709 -91 1959 -91 \nQ 1206 -91 779 398 \nQ 353 888 353 1747 \nQ 353 2609 779 3096 \nQ 1206 3584 1959 3584 \nz\n\" id=\"DejaVuSans-6f\" transform=\"scale(0.015625)\"/>\n      <path d=\"M 750 794 \nL 1409 794 \nL 1409 0 \nL 750 0 \nL 750 794 \nz\nM 750 3309 \nL 1409 3309 \nL 1409 2516 \nL 750 2516 \nL 750 3309 \nz\n\" id=\"DejaVuSans-3a\" transform=\"scale(0.015625)\"/>\n      <path d=\"M 684 794 \nL 1344 794 \nL 1344 0 \nL 684 0 \nL 684 794 \nz\n\" id=\"DejaVuSans-2e\" transform=\"scale(0.015625)\"/>\n      <path d=\"M 2034 2216 \nQ 1584 2216 1326 1975 \nQ 1069 1734 1069 1313 \nQ 1069 891 1326 650 \nQ 1584 409 2034 409 \nQ 2484 409 2743 651 \nQ 3003 894 3003 1313 \nQ 3003 1734 2745 1975 \nQ 2488 2216 2034 2216 \nz\nM 1403 2484 \nQ 997 2584 770 2862 \nQ 544 3141 544 3541 \nQ 544 4100 942 4425 \nQ 1341 4750 2034 4750 \nQ 2731 4750 3128 4425 \nQ 3525 4100 3525 3541 \nQ 3525 3141 3298 2862 \nQ 3072 2584 2669 2484 \nQ 3125 2378 3379 2068 \nQ 3634 1759 3634 1313 \nQ 3634 634 3220 271 \nQ 2806 -91 2034 -91 \nQ 1263 -91 848 271 \nQ 434 634 434 1313 \nQ 434 1759 690 2068 \nQ 947 2378 1403 2484 \nz\nM 1172 3481 \nQ 1172 3119 1398 2916 \nQ 1625 2713 2034 2713 \nQ 2441 2713 2670 2916 \nQ 2900 3119 2900 3481 \nQ 2900 3844 2670 4047 \nQ 2441 4250 2034 4250 \nQ 1625 4250 1398 4047 \nQ 1172 3844 1172 3481 \nz\n\" id=\"DejaVuSans-38\" transform=\"scale(0.015625)\"/>\n     </defs>\n     <use xlink:href=\"#DejaVuSans-41\"/>\n     <use x=\"66.658203\" xlink:href=\"#DejaVuSans-63\"/>\n     <use x=\"121.638672\" xlink:href=\"#DejaVuSans-63\"/>\n     <use x=\"176.619141\" xlink:href=\"#DejaVuSans-75\"/>\n     <use x=\"239.998047\" xlink:href=\"#DejaVuSans-72\"/>\n     <use x=\"281.111328\" xlink:href=\"#DejaVuSans-61\"/>\n     <use x=\"342.390625\" xlink:href=\"#DejaVuSans-63\"/>\n     <use x=\"397.371094\" xlink:href=\"#DejaVuSans-79\"/>\n     <use x=\"456.550781\" xlink:href=\"#DejaVuSans-20\"/>\n     <use x=\"488.337891\" xlink:href=\"#DejaVuSans-53\"/>\n     <use x=\"551.814453\" xlink:href=\"#DejaVuSans-63\"/>\n     <use x=\"606.794922\" xlink:href=\"#DejaVuSans-6f\"/>\n     <use x=\"667.976562\" xlink:href=\"#DejaVuSans-72\"/>\n     <use x=\"706.839844\" xlink:href=\"#DejaVuSans-65\"/>\n     <use x=\"768.363281\" xlink:href=\"#DejaVuSans-3a\"/>\n     <use x=\"802.054688\" xlink:href=\"#DejaVuSans-20\"/>\n     <use x=\"833.841797\" xlink:href=\"#DejaVuSans-30\"/>\n     <use x=\"897.464844\" xlink:href=\"#DejaVuSans-2e\"/>\n     <use x=\"929.251953\" xlink:href=\"#DejaVuSans-38\"/>\n     <use x=\"992.875\" xlink:href=\"#DejaVuSans-38\"/>\n    </g>\n   </g>\n  </g>\n  <g id=\"axes_2\">\n   <g id=\"patch_3\">\n    <path d=\"M 322.13625 350.757656 \nL 338.44425 350.757656 \nL 338.44425 24.597656 \nL 322.13625 24.597656 \nz\n\" style=\"fill:#ffffff;\"/>\n   </g>\n   <g id=\"patch_4\">\n    <path clip-path=\"url(#pd827b8ae97)\" d=\"M 322.13625 350.757656 \nL 322.13625 349.483594 \nL 322.13625 25.871719 \nL 322.13625 24.597656 \nL 338.44425 24.597656 \nL 338.44425 25.871719 \nL 338.44425 349.483594 \nL 338.44425 350.757656 \nL 338.44425 350.757656 \nz\n\" style=\"fill:#ffffff;stroke:#ffffff;stroke-linejoin:miter;stroke-width:0.01;\"/>\n   </g>\n   <image height=\"326\" id=\"imagea05c916326\" transform=\"scale(1 -1)translate(0 -326)\" width=\"16\" x=\"322\" xlink:href=\"data:image/png;base64,\niVBORw0KGgoAAAANSUhEUgAAABAAAAFGCAYAAABjUx8/AAABr0lEQVR4nO2cUY7DMAgFceq9xN7/nu0hBmleEPkPgvGALbnp+fz9fws895C3q+qew0LgAA96u6ruKbmE+2CIsAQOkZeAIeoMAjxYiLyd9VVo6EZ/pAWIxGIkiKRD1EvAGQScDwIg6iLpA8XfWHasZzDAGaxIvkgREGEAHWLC3kgz0FVOEMk+H+ASIkyUN5aA03qCieyJEAlmMMFEHeKE8wHPYEA3wgA6gxHdiG6ZpoiEAwwY6zQAFUlfxoWYwYAGOO8faSvSBAb3KZZCA0S7FxogfnWINMCKVPfAEvyNpeOkajNoyEA3EXaTvwodd660BBqg4a7NFikAIlZZh7gMOhjA3bUBIsxgRDfCIgJMXJEmMMAmBnQjb6b3Q6wAiCxARzfCADQHP4MZEO07V70EnkHpEN/PIMJEDPH1P2zzGdQDPwIZ0Y00AP2SxofYMFDez8Bexgnd6ENcEwNM7GDgN9OKhBnw3RmW0LE32hBpLyQw0E3ckRawjGvijLGur8KKNAPiOR83gwAGK1LdeqgHNsSAsa43U4RIfjfKKgdAxH8uNKAbdQ8CIOoe+MuIIf4AUq0uS+PnmPQAAAAASUVORK5CYII=\" y=\"-24\"/>\n   <g id=\"matplotlib.axis_3\"/>\n   <g id=\"matplotlib.axis_4\">\n    <g id=\"ytick_3\">\n     <g id=\"line2d_5\">\n      <defs>\n       <path d=\"M 0 0 \nL 3.5 0 \n\" id=\"m23f20cb9e1\" style=\"stroke:#000000;stroke-width:0.8;\"/>\n      </defs>\n      <g>\n       <use style=\"stroke:#000000;stroke-width:0.8;\" x=\"338.44425\" xlink:href=\"#m23f20cb9e1\" y=\"306.246409\"/>\n      </g>\n     </g>\n     <g id=\"text_12\">\n      <!-- 200 -->\n      <g transform=\"translate(345.44425 310.045628)scale(0.1 -0.1)\">\n       <use xlink:href=\"#DejaVuSans-32\"/>\n       <use x=\"63.623047\" xlink:href=\"#DejaVuSans-30\"/>\n       <use x=\"127.246094\" xlink:href=\"#DejaVuSans-30\"/>\n      </g>\n     </g>\n    </g>\n    <g id=\"ytick_4\">\n     <g id=\"line2d_6\">\n      <g>\n       <use style=\"stroke:#000000;stroke-width:0.8;\" x=\"338.44425\" xlink:href=\"#m23f20cb9e1\" y=\"255.084056\"/>\n      </g>\n     </g>\n     <g id=\"text_13\">\n      <!-- 400 -->\n      <g transform=\"translate(345.44425 258.883275)scale(0.1 -0.1)\">\n       <use xlink:href=\"#DejaVuSans-34\"/>\n       <use x=\"63.623047\" xlink:href=\"#DejaVuSans-30\"/>\n       <use x=\"127.246094\" xlink:href=\"#DejaVuSans-30\"/>\n      </g>\n     </g>\n    </g>\n    <g id=\"ytick_5\">\n     <g id=\"line2d_7\">\n      <g>\n       <use style=\"stroke:#000000;stroke-width:0.8;\" x=\"338.44425\" xlink:href=\"#m23f20cb9e1\" y=\"203.921703\"/>\n      </g>\n     </g>\n     <g id=\"text_14\">\n      <!-- 600 -->\n      <g transform=\"translate(345.44425 207.720922)scale(0.1 -0.1)\">\n       <use xlink:href=\"#DejaVuSans-36\"/>\n       <use x=\"63.623047\" xlink:href=\"#DejaVuSans-30\"/>\n       <use x=\"127.246094\" xlink:href=\"#DejaVuSans-30\"/>\n      </g>\n     </g>\n    </g>\n    <g id=\"ytick_6\">\n     <g id=\"line2d_8\">\n      <g>\n       <use style=\"stroke:#000000;stroke-width:0.8;\" x=\"338.44425\" xlink:href=\"#m23f20cb9e1\" y=\"152.75935\"/>\n      </g>\n     </g>\n     <g id=\"text_15\">\n      <!-- 800 -->\n      <g transform=\"translate(345.44425 156.558569)scale(0.1 -0.1)\">\n       <use xlink:href=\"#DejaVuSans-38\"/>\n       <use x=\"63.623047\" xlink:href=\"#DejaVuSans-30\"/>\n       <use x=\"127.246094\" xlink:href=\"#DejaVuSans-30\"/>\n      </g>\n     </g>\n    </g>\n    <g id=\"ytick_7\">\n     <g id=\"line2d_9\">\n      <g>\n       <use style=\"stroke:#000000;stroke-width:0.8;\" x=\"338.44425\" xlink:href=\"#m23f20cb9e1\" y=\"101.596997\"/>\n      </g>\n     </g>\n     <g id=\"text_16\">\n      <!-- 1000 -->\n      <g transform=\"translate(345.44425 105.396216)scale(0.1 -0.1)\">\n       <use xlink:href=\"#DejaVuSans-31\"/>\n       <use x=\"63.623047\" xlink:href=\"#DejaVuSans-30\"/>\n       <use x=\"127.246094\" xlink:href=\"#DejaVuSans-30\"/>\n       <use x=\"190.869141\" xlink:href=\"#DejaVuSans-30\"/>\n      </g>\n     </g>\n    </g>\n    <g id=\"ytick_8\">\n     <g id=\"line2d_10\">\n      <g>\n       <use style=\"stroke:#000000;stroke-width:0.8;\" x=\"338.44425\" xlink:href=\"#m23f20cb9e1\" y=\"50.434644\"/>\n      </g>\n     </g>\n     <g id=\"text_17\">\n      <!-- 1200 -->\n      <g transform=\"translate(345.44425 54.233863)scale(0.1 -0.1)\">\n       <use xlink:href=\"#DejaVuSans-31\"/>\n       <use x=\"63.623047\" xlink:href=\"#DejaVuSans-32\"/>\n       <use x=\"127.246094\" xlink:href=\"#DejaVuSans-30\"/>\n       <use x=\"190.869141\" xlink:href=\"#DejaVuSans-30\"/>\n      </g>\n     </g>\n    </g>\n   </g>\n   <g id=\"LineCollection_1\"/>\n   <g id=\"patch_5\">\n    <path d=\"M 322.13625 350.757656 \nL 322.13625 349.483594 \nL 322.13625 25.871719 \nL 322.13625 24.597656 \nL 338.44425 24.597656 \nL 338.44425 25.871719 \nL 338.44425 349.483594 \nL 338.44425 350.757656 \nz\n\" style=\"fill:none;\"/>\n   </g>\n  </g>\n </g>\n <defs>\n  <clipPath id=\"p29ae644ab9\">\n   <rect height=\"326.16\" width=\"267.84\" x=\"37.55625\" y=\"24.597656\"/>\n  </clipPath>\n  <clipPath id=\"pd827b8ae97\">\n   <rect height=\"326.16\" width=\"16.308\" x=\"322.13625\" y=\"24.597656\"/>\n  </clipPath>\n </defs>\n</svg>\n",
            "image/png": "[encoded data removed]"
          },
          "metadata": {
            "tags": [],
            "needs_background": "light"
          }
        }
      ]
    }
  ]
}